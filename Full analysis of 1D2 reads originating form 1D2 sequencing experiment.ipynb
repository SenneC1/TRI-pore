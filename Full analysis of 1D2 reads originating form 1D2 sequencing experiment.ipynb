{
 "cells": [
  {
   "cell_type": "markdown",
   "metadata": {},
   "source": [
    "## Ananlysis of 1D2 reads\n",
    "\n",
    "### 1) Recover 1D2 reads with a Phred Quality > 10\n",
    "    Retrieve all 1D reads with q >= 10 (the 1D2 reads with q<11 are normally split into the fail group)\n",
    "    No new basecalling, we just filter the better reads from the fail set using NanoFilter\n",
    "### 2) Split reads per sample using barcodes to identify each sample\n",
    "    Using a fuzzy regex allowing for 3 mismatches \n",
    "### 3) Mapping of the reads against the reference\n",
    "    Direct mapping using the ont2d settings against the references SNP regions (51 nt)\n",
    "### 4) Detemine the SNP genotype on position 26 in the mappings \n"
   ]
  },
  {
   "cell_type": "markdown",
   "metadata": {},
   "source": [
    "### 1. Recover q10 1D2 reads and combine with original 1D2 reads"
   ]
  },
  {
   "cell_type": "code",
   "execution_count": null,
   "metadata": {
    "collapsed": false
   },
   "outputs": [],
   "source": [
    "# Init\n",
    "#\n",
    "import os, glob\n",
    "import regex\n",
    "from multiprocessing import Pool\n",
    "\n",
    "rawDataDir       = '/media/genomics/nanopore/run_data/20171219_nanopore_tri-allelic-1D2_basecalled_albacore-2.1.3'\n",
    "projectDir       = '/media/genomics/nanopore/projects/tri-allelic_SNPs/20171220_nanopore_1d2_analysis/Github'\n",
    "resultDir        = os.path.join(projectDir, 'one_d_squared_read_analysis_q10_or_better')\n",
    "pass1dsqFastqDir = os.path.join(rawDataDir, '1dsq_analysis', 'workspace', 'pass')\n",
    "fail1dsqFastqDir = os.path.join(rawDataDir, '1dsq_analysis', 'workspace', 'fail')\n",
    "q10R1dsqFastqDir = os.path.join(rawDataDir, '1dsq_analysis', 'workspace', 'filter_q10')\n",
    "rawDataQCDir     = os.path.join(projectDir, 'raw_data_qc_albacore-2.1.3')\n",
    "barcodeFile      = os.path.join(projectDir, 'barcodes_tri-allelic.csv')\n",
    "\n",
    "nanoplot         = 'NanoPlot' # v1.8.1 (in p36 venv YG)\n",
    "\n",
    "if not os.path.exists(resultDir):\n",
    "  print('Creating directory {}'.format(resultDir))\n",
    "  os.makedirs(resultDir)\n",
    "else:\n",
    "  print('Directory {} exists'.format(resultDir))"
   ]
  },
  {
   "cell_type": "code",
   "execution_count": 23,
   "metadata": {
    "collapsed": false
   },
   "outputs": [
    {
     "name": "stdout",
     "output_type": "stream",
     "text": [
      "Original 1D2 reads having q >= 11:  4407\n",
      "Recovered 1D2 reads having q >= 10: 8405\n"
     ]
    }
   ],
   "source": [
    "# Count reads\n",
    "#\n",
    "\n",
    "# Original 1d2 (q >= 11)\n",
    "r = ! wc -l {os.path.join(pass1dsqFastqDir, '*.fastq')}\n",
    "count = int(r[0].split(' ')[0]) // 4\n",
    "print('Original 1D2 reads having q >= 11:  {}'.format(count))\n",
    "\n",
    "# Recovered 1d2 (10 <= q < 11)\n",
    "r = ! wc -l {os.path.join(q10R1dsqFastqDir, '*_filter_failed_1dsq_q10.fastq')}\n",
    "count = int(r[0].split(' ')[0]) // 4\n",
    "print('Recovered 1D2 reads having q >= 10: {}'.format(count))"
   ]
  },
  {
   "cell_type": "code",
   "execution_count": 24,
   "metadata": {
    "collapsed": false
   },
   "outputs": [
    {
     "name": "stdout",
     "output_type": "stream",
     "text": [
      "Combined 1D2 reads having q >= 10: 12812\n"
     ]
    }
   ],
   "source": [
    "# Combine with original 1D2 reads\n",
    "#\n",
    "combined1dsqFastq = os.path.join(q10R1dsqFastqDir, 'combined_1dsq_q10_or_better.fastq')\n",
    "\n",
    "! cat {os.path.join(pass1dsqFastqDir, '*.fastq')} {os.path.join(q10R1dsqFastqDir, '*_filter_failed_1dsq_q10.fastq')} > {combined1dsqFastq}\n",
    "\n",
    "r = ! wc -l {combined1dsqFastq}\n",
    "count = int(r[0].split(' ')[0]) // 4\n",
    "print('Combined 1D2 reads having q >= 10: {}'.format(count))"
   ]
  },
  {
   "cell_type": "code",
   "execution_count": 28,
   "metadata": {
    "collapsed": false
   },
   "outputs": [
    {
     "name": "stdout",
     "output_type": "stream",
     "text": [
      "Done\n"
     ]
    }
   ],
   "source": [
    "# Generate quality score plots\n",
    "#\n",
    "\n",
    "# Rescued reads\n",
    "! {nanoplot} -t 10 --maxlength 3000 --fastq_rich {os.path.join(q10R1dsqFastqDir, '*_filter_failed_1dsq_q10.fastq')} -o {rawDataQCDir} -p 'recovered_q10_one_d_sq_'\n",
    "\n",
    "# Combined reads\n",
    "! {nanoplot} -t 10 --maxlength 3000 --fastq_rich {combined1dsqFastq} -o {rawDataQCDir} -p 'q10_or_better_one_d_sq_'\n",
    "\n",
    "print('Done')\n"
   ]
  },
  {
   "cell_type": "markdown",
   "metadata": {},
   "source": [
    "### 2) Split reads per sample using barcodes to identify each sample"
   ]
  },
  {
   "cell_type": "code",
   "execution_count": 31,
   "metadata": {
    "collapsed": true
   },
   "outputs": [],
   "source": [
    "# Utility functions\n",
    "#\n",
    "def reverseComplement(seq):\n",
    "  transTab = str.maketrans('agctyrwskmdvhbAGCTYRWSKMDVHB', 'tcgarywsmkhbdvTCGARYWSMKHBDV')\n",
    "  return seq.translate(transTab)[::-1]\n",
    "\n",
    "\n",
    "\n",
    "def loadReads(fileName):\n",
    "  \"\"\"\n",
    "  Return a dict with the sequencing reads (including quality scores) extracted from the given file\n",
    "  \"\"\"\n",
    "  rData = {}\n",
    "  with open(fileName, 'rt') as f:\n",
    "    cnt = 0\n",
    "\n",
    "    for line in f:\n",
    "      cnt += 1\n",
    "      if cnt % 4 == 1:\n",
    "        readName = line.rstrip()\n",
    "      elif cnt % 4 == 2:\n",
    "        readSeq = line.rstrip()\n",
    "      elif cnt % 4 == 0:\n",
    "        readQual = line.rstrip()\n",
    "        rData[readName] = {'s': readSeq, 'q': readQual}\n",
    "        if len(rData[readName]['s'])==0 or len(rData[readName]['q'])==0:\n",
    "          print('*** Partial read data: {}'.format(readName))\n",
    "            \n",
    "  return(rData)\n",
    "\n",
    "\n",
    "\n",
    "def findBarcodes(readName):\n",
    "  \"\"\"\n",
    "  Lookup all barcodes in the given read. Return a dict with the barcode hit counts for all reads.\n",
    "  \"\"\"\n",
    "  barcodeHits = {}\n",
    "  \n",
    "  for barcodeName in barcodeList:\n",
    "    # Lookup forward barcode sequence\n",
    "    for pattern in (barcodeRE[barcodeName]['f'], barcodeRE[barcodeName]['r']):\n",
    "      for match in pattern.finditer(readData[readName]['s']):\n",
    "        if readName not in barcodeHits:\n",
    "          barcodeHits[readName] = {}\n",
    "        if barcodeName not in barcodeHits[readName]:\n",
    "          barcodeHits[readName][barcodeName] = 1\n",
    "        else:\n",
    "          barcodeHits[readName][barcodeName] += 1\n",
    "          \n",
    "  return barcodeHits\n"
   ]
  },
  {
   "cell_type": "code",
   "execution_count": 33,
   "metadata": {
    "collapsed": false
   },
   "outputs": [
    {
     "name": "stdout",
     "output_type": "stream",
     "text": [
      "Found 5 barcodes:\n",
      "NB07 {'f': 'GTGTTACCGTGGGAATGAATCCTT', 'r': 'AAGGATTCATTCCCACGGTAACAC'}\n",
      "NB08 {'f': 'TTCAGGGAACAAACCAAGTTACGT', 'r': 'ACGTAACTTGGTTTGTTCCCTGAA'}\n",
      "NB09 {'f': 'AACTAGGCACAGCGAGTCTTGGTT', 'r': 'AACCAAGACTCGCTGTGCCTAGTT'}\n",
      "NB10 {'f': 'AAGCGTTGAAACCTTTGTCCTCTC', 'r': 'GAGAGGACAAAGGTTTCAACGCTT'}\n",
      "NB12 {'f': 'CAGGTAGAAAGAAGCAGAATCGGA', 'r': 'TCCGATTCTGCTTCTTTCTACCTG'}\n"
     ]
    }
   ],
   "source": [
    "# Load barcode data, compile regex\n",
    "#\n",
    "# Get the barcodes\n",
    "#\n",
    "barcodeList = {}\n",
    "barcodeRE   = {}\n",
    "maxMisMatch = 3\n",
    "\n",
    "with open(barcodeFile, 'rt') as f:\n",
    "  for line in f:\n",
    "    line = line.strip()\n",
    "    \n",
    "    # Ignore the column header line (should start with a '#')\n",
    "    if line.startswith('#'):\n",
    "      continue\n",
    "      \n",
    "    # Store\n",
    "    name, seq         = line.split(',')\n",
    "    barcodeList[name] = {'f': seq, 'r': reverseComplement(seq)}\n",
    "    \n",
    "    barcodeRE[name] = {\n",
    "      'f': regex.compile('(?e)({}){{e<={}}}'.format(barcodeList[name]['f'], maxMisMatch)),\n",
    "      'r': regex.compile('(?e)({}){{e<={}}}'.format(barcodeList[name]['r'], maxMisMatch))\n",
    "    }\n",
    "    \n",
    "print('Found {} barcodes:'.format(len(barcodeList)))\n",
    "for n in sorted(barcodeList):\n",
    "  print(n, barcodeList[n])"
   ]
  },
  {
   "cell_type": "code",
   "execution_count": 34,
   "metadata": {
    "collapsed": false
   },
   "outputs": [
    {
     "name": "stdout",
     "output_type": "stream",
     "text": [
      "Loaded 12812 1D2 reads\n"
     ]
    }
   ],
   "source": [
    "# Load 1D2 read data\n",
    "#\n",
    "fastqFile              = os.path.join(q10R1dsqFastqDir, 'combined_1dsq_q10_or_better.fastq')\n",
    "readDataOneDSquaredQ10 = loadReads(fastqFile)\n",
    "\n",
    "print('Loaded {} 1D2 reads'.format(len(readDataOneDSquaredQ10)))"
   ]
  },
  {
   "cell_type": "code",
   "execution_count": 36,
   "metadata": {
    "collapsed": false
   },
   "outputs": [
    {
     "name": "stdout",
     "output_type": "stream",
     "text": [
      "NB07 = 879 (6.9%)\n",
      "NB08 = 2382 (18.6%)\n",
      "NB09 = 2061 (16.1%)\n",
      "NB10 = 4004 (31.3%)\n",
      "NB12 = 930 (7.3%)\n",
      "reads having 1 barcodes = 8862 (69.2%)\n",
      "reads having 2 barcodes = 664 (5.2%)\n",
      "reads having 3 barcodes = 22 (0.2%)\n",
      "\n"
     ]
    }
   ],
   "source": [
    "# Identify barcodes in 1D2 reads\n",
    "#\n",
    "barcodeHitData1D2 = {}\n",
    "readData          = readDataOneDSquaredQ10\n",
    "maxThread         = 20\n",
    "pool              = Pool(maxThread)\n",
    "bcHitList         = pool.map(findBarcodes, readDataOneDSquaredQ10.keys())  # list of {readname: {barcodename: hitcount}}\n",
    "pool.terminate()\n",
    "\n",
    "for d in bcHitList:\n",
    "  barcodeHitData1D2.update(d)\n",
    "\n",
    "# Print stats\n",
    "barcodeStats1D2 = {}\n",
    " \n",
    "for readName in barcodeHitData1D2:\n",
    "  n = 'reads having {} barcodes'.format(len(barcodeHitData1D2[readName]))\n",
    "  if n in barcodeStats1D2:\n",
    "    barcodeStats1D2[n] += 1\n",
    "  else:\n",
    "    barcodeStats1D2[n] = 1\n",
    "  \n",
    "  for barcodeName in barcodeHitData1D2[readName]:\n",
    "    if barcodeName in barcodeStats1D2:\n",
    "      barcodeStats1D2[barcodeName] += 1\n",
    "    else:\n",
    "      barcodeStats1D2[barcodeName] = 1\n",
    "\n",
    "for k in sorted(barcodeStats1D2.keys()):\n",
    "  print('{} = {} ({:>.1f}%)'.format(k, barcodeStats1D2[k], 100*barcodeStats1D2[k]/len(readDataOneDSquaredQ10)))\n",
    "  \n",
    "print()"
   ]
  },
  {
   "cell_type": "code",
   "execution_count": 38,
   "metadata": {
    "collapsed": false
   },
   "outputs": [
    {
     "name": "stdout",
     "output_type": "stream",
     "text": [
      "Created /media/genomics/nanopore/projects/tri-allelic_SNPs/20171220_nanopore_1d2_analysis/one_d_squared_read_analysis_q10_or_better/NB09.fastq\n",
      "Created /media/genomics/nanopore/projects/tri-allelic_SNPs/20171220_nanopore_1d2_analysis/one_d_squared_read_analysis_q10_or_better/NB10.fastq\n",
      "Created /media/genomics/nanopore/projects/tri-allelic_SNPs/20171220_nanopore_1d2_analysis/one_d_squared_read_analysis_q10_or_better/NB07.fastq\n",
      "Created /media/genomics/nanopore/projects/tri-allelic_SNPs/20171220_nanopore_1d2_analysis/one_d_squared_read_analysis_q10_or_better/NB08.fastq\n",
      "Created /media/genomics/nanopore/projects/tri-allelic_SNPs/20171220_nanopore_1d2_analysis/one_d_squared_read_analysis_q10_or_better/NB12.fastq\n",
      "Done\n"
     ]
    }
   ],
   "source": [
    "# Save 1D2 reads in fastq files per barcode (sample).  We keep only reads that have 1 type of barcode.\n",
    "#\n",
    "outFiles = {}\n",
    "\n",
    "for readName in barcodeHitData1D2:\n",
    "  if len(barcodeHitData1D2[readName]) == 1:\n",
    "    for barcodeName in barcodeHitData1D2[readName]:\n",
    "      if barcodeName not in outFiles:\n",
    "        fastqFileName = os.path.join(resultDir, '{}.fastq'.format(barcodeName))\n",
    "        outFiles[barcodeName] = open(fastqFileName, 'wt')\n",
    "        print('Created {}'.format(fastqFileName))\n",
    "      \n",
    "      # Write fastq read\n",
    "      outFiles[barcodeName].write('{}\\n{}\\n+\\n{}\\n'.format(readName, readDataOneDSquaredQ10[readName]['s'], readDataOneDSquaredQ10[readName]['q']))\n",
    "      \n",
    "# Close files (required, otherwise buffers are not always flushed to disk!)\n",
    "for barcodeName in outFiles:\n",
    "  outFiles[barcodeName].close()\n",
    "  \n",
    "print('Done')"
   ]
  },
  {
   "cell_type": "code",
   "execution_count": 39,
   "metadata": {
    "collapsed": false
   },
   "outputs": [
    {
     "name": "stdout",
     "output_type": "stream",
     "text": [
      "Total reads: 12812\n",
      "NB07: 823 (6.423665313768343 %) reads\n",
      "NB08: 1742 (13.59662816109897 %) reads\n",
      "NB09: 1943 (15.165469871995004 %) reads\n",
      "NB10: 3846 (30.018732438339057 %) reads\n",
      "NB12: 508 (3.965032781767093 %) reads\n"
     ]
    }
   ],
   "source": [
    "# Count 1D2 reads per barcode (sample)\n",
    "#\n",
    "barcodeList  = ['NB07', 'NB08', 'NB09', 'NB10', 'NB12']\n",
    "barcodeReads = {}\n",
    "totalReads   = len(readDataOneDSquaredQ10)\n",
    "\n",
    "print('Total reads: {}'.format(totalReads))\n",
    "\n",
    "for barcodeName in barcodeList:\n",
    "  fastqFileName             = os.path.join(resultDir, '{}.fastq'.format(barcodeName))\n",
    "  barcodeReads[barcodeName] = loadReads(fastqFileName)\n",
    "  readCount                 = len(barcodeReads[barcodeName])\n",
    "  \n",
    "  print('{}: {} ({} %) reads'.format(barcodeName, readCount, 100*readCount/totalReads))"
   ]
  },
  {
   "cell_type": "markdown",
   "metadata": {},
   "source": [
    "### 3) Mapping of the reads against the reference"
   ]
  },
  {
   "cell_type": "code",
   "execution_count": 40,
   "metadata": {
    "collapsed": true
   },
   "outputs": [],
   "source": [
    "snpRefFile    = os.path.join(projectDir, 'triallelic_snp_regions.fasta')\n",
    "sampleMap     = {\n",
    "  'NB07': '9948',\n",
    "  'NB08': '9947',\n",
    "  'NB09': '2800',\n",
    "  'NB10': 'G59',\n",
    "  'NB12': 'G62'   # G56 in e-mail Senne\n",
    "}\n",
    "\n",
    "bwa        = '/opt/tools/bwa-0.7.15'\n",
    "samtools   = '/opt/tools/samtools-1.3.1'\n",
    "bcftools   = '/opt/tools/bcftools-1.3.1'"
   ]
  },
  {
   "cell_type": "code",
   "execution_count": 41,
   "metadata": {
    "collapsed": false,
    "scrolled": true
   },
   "outputs": [
    {
     "name": "stdout",
     "output_type": "stream",
     "text": [
      "[M::bwa_idx_load_from_disk] read 0 ALT contigs\n",
      "[M::process] read 823 sequences (651745 bp)...\n",
      "[M::mem_process_seqs] Processed 823 reads in 0.384 CPU sec, 0.045 real sec\n",
      "[main] Version: 0.7.15-r1140\n",
      "[main] CMD: /opt/tools/bwa-0.7.15 mem -t 10 -x ont2d /media/genomics/nanopore/projects/tri-allelic_SNPs/20171220_nanopore_1d2_analysis/triallelic_snp_regions.fasta /media/genomics/nanopore/projects/tri-allelic_SNPs/20171220_nanopore_1d2_analysis/one_d_squared_read_analysis_q10_or_better/NB07_noqual.fasta\n",
      "[main] Real time: 0.884 sec; CPU: 0.389 sec\n",
      "[mpileup] 1 samples in 1 input files\n",
      "Note: Neither --ploidy nor --ploidy-file given, assuming all sites are diploid\n",
      "[M::bwa_idx_load_from_disk] read 0 ALT contigs\n",
      "[M::process] read 1742 sequences (1100512 bp)...\n",
      "[M::mem_process_seqs] Processed 1742 reads in 1.738 CPU sec, 1.128 real sec\n",
      "[main] Version: 0.7.15-r1140\n",
      "[main] CMD: /opt/tools/bwa-0.7.15 mem -t 10 -x ont2d /media/genomics/nanopore/projects/tri-allelic_SNPs/20171220_nanopore_1d2_analysis/triallelic_snp_regions.fasta /media/genomics/nanopore/projects/tri-allelic_SNPs/20171220_nanopore_1d2_analysis/one_d_squared_read_analysis_q10_or_better/NB08_noqual.fasta\n",
      "[main] Real time: 1.228 sec; CPU: 1.746 sec\n",
      "Note: Neither --ploidy nor --ploidy-file given, assuming all sites are diploid\n",
      "[mpileup] 1 samples in 1 input files\n",
      "[M::bwa_idx_load_from_disk] read 0 ALT contigs\n",
      "[M::process] read 1943 sequences (1596426 bp)...\n",
      "[M::mem_process_seqs] Processed 1943 reads in 0.894 CPU sec, 0.096 real sec\n",
      "[main] Version: 0.7.15-r1140\n",
      "[main] CMD: /opt/tools/bwa-0.7.15 mem -t 10 -x ont2d /media/genomics/nanopore/projects/tri-allelic_SNPs/20171220_nanopore_1d2_analysis/triallelic_snp_regions.fasta /media/genomics/nanopore/projects/tri-allelic_SNPs/20171220_nanopore_1d2_analysis/one_d_squared_read_analysis_q10_or_better/NB09_noqual.fasta\n",
      "[main] Real time: 0.208 sec; CPU: 0.903 sec\n",
      "Note: Neither --ploidy nor --ploidy-file given, assuming all sites are diploid\n",
      "[mpileup] 1 samples in 1 input files\n",
      "[M::bwa_idx_load_from_disk] read 0 ALT contigs\n",
      "[M::process] read 3846 sequences (2552091 bp)...\n",
      "[M::mem_process_seqs] Processed 3846 reads in 1.547 CPU sec, 0.163 real sec\n",
      "[main] Version: 0.7.15-r1140\n",
      "[main] CMD: /opt/tools/bwa-0.7.15 mem -t 10 -x ont2d /media/genomics/nanopore/projects/tri-allelic_SNPs/20171220_nanopore_1d2_analysis/triallelic_snp_regions.fasta /media/genomics/nanopore/projects/tri-allelic_SNPs/20171220_nanopore_1d2_analysis/one_d_squared_read_analysis_q10_or_better/NB10_noqual.fasta\n",
      "[main] Real time: 0.358 sec; CPU: 1.563 sec\n",
      "Note: Neither --ploidy nor --ploidy-file given, assuming all sites are diploid\n",
      "[mpileup] 1 samples in 1 input files\n",
      "[M::bwa_idx_load_from_disk] read 0 ALT contigs\n",
      "[M::process] read 508 sequences (337206 bp)...\n",
      "[M::mem_process_seqs] Processed 508 reads in 0.202 CPU sec, 0.021 real sec\n",
      "[main] Version: 0.7.15-r1140\n",
      "[main] CMD: /opt/tools/bwa-0.7.15 mem -t 10 -x ont2d /media/genomics/nanopore/projects/tri-allelic_SNPs/20171220_nanopore_1d2_analysis/triallelic_snp_regions.fasta /media/genomics/nanopore/projects/tri-allelic_SNPs/20171220_nanopore_1d2_analysis/one_d_squared_read_analysis_q10_or_better/NB12_noqual.fasta\n",
      "[main] Real time: 0.056 sec; CPU: 0.205 sec\n",
      "Note: Neither --ploidy nor --ploidy-file given, assuming all sites are diploid\n",
      "[mpileup] 1 samples in 1 input files\n",
      "Done\n"
     ]
    }
   ],
   "source": [
    "# Map amplicons to reference SNP region sequences (51 nt), call variants\n",
    "#\n",
    "for sampleName in sorted(sampleMap):\n",
    "  # Map amplicons\n",
    "  fastqFile = os.path.join(resultDir, '{}.fastq'.format(sampleName))\n",
    "  fastaFile = os.path.join(resultDir, '{}_noqual.fasta'.format(sampleName))\n",
    "  bamFile   = fastaFile.replace('.fasta', '_direct_mapping.bam')\n",
    "  vcfFile   = fastaFile.replace('.fasta', '_direct_mapping.vcf')\n",
    "  \n",
    "  # Convert fastq to fasta\n",
    "  ! paste - - - - < {fastqFile} | cut -f 1,2 | sed 's/^@/>/' | tr \"\\t\" \"\\n\" > {fastaFile}\n",
    "  \n",
    "  # Map\n",
    "  ! {bwa} mem -t 10 -x ont2d {snpRefFile} {fastaFile} | {samtools} view -Sb - | {samtools} sort -o {bamFile} -\n",
    "  ! {samtools} index {bamFile}\n",
    "  \n",
    "  # Variant calling\n",
    "  !{samtools} mpileup -d 100000 -Buf {snpRefFile} -t AD {bamFile} | {bcftools} call -V indels -m - > {vcfFile}\n",
    "\n",
    "print('Done')"
   ]
  },
  {
   "cell_type": "markdown",
   "metadata": {},
   "source": [
    "### 4) Detemine the SNP genotype on position 26 in the mappings "
   ]
  },
  {
   "cell_type": "code",
   "execution_count": 42,
   "metadata": {
    "collapsed": true
   },
   "outputs": [],
   "source": [
    "def genotype(vcfFile, snpPos):\n",
    "  \"\"\"\n",
    "  Extract genotype data at given position from a given vcf file.\n",
    "  \"\"\"\n",
    "  genotypeData = {}\n",
    "  \n",
    "  with open (vcfFile, 'rt') as inFile:\n",
    "    for line in inFile:\n",
    "      if line.startswith('#'): continue\n",
    "      \n",
    "      snpName, pos, id, ref, alt, qual, filt, info, form, formValues = line.rstrip().split()\n",
    "      \n",
    "      if int(pos) == snpPos:\n",
    "        k        = form.split(':')\n",
    "        v        = formValues.split(':')         \n",
    "        formData = {}\n",
    "        \n",
    "        for i in range(len(k)):\n",
    "          formData[k[i]] = v[i]\n",
    "          \n",
    "        infoData = {}\n",
    "        for t in info.split(';'):\n",
    "          k,v = t.split('=')\n",
    "          infoData[k] = v\n",
    "          \n",
    "        alleles = ref\n",
    "        if alt != '.':\n",
    "          alleles += ''.join(alt.split(','))\n",
    "          \n",
    "        depths                = [int(d) for d in formData['AD'].split(',')]\n",
    "        gt                    = [alleles[int(i)] for i in formData['GT'].split('/') ]\n",
    "        genotypeData[snpName] = {'pos': pos, 'alleles': {'A': 0, 'G': 0, 'C': 0, 'T':0}, 'genotype': '/'.join(gt), 'depth': int(infoData['DP'])}\n",
    "        \n",
    "        for i in range(len(alleles)):\n",
    "          genotypeData[snpName]['alleles'][alleles[i]] = depths[i]\n",
    "        \n",
    "  return genotypeData\n"
   ]
  },
  {
   "cell_type": "code",
   "execution_count": 43,
   "metadata": {
    "collapsed": false,
    "scrolled": true
   },
   "outputs": [
    {
     "name": "stdout",
     "output_type": "stream",
     "text": [
      "SNP's for sample NB09 (2800)\n",
      "  rs1008686         A:0      C:0      G:0      T:293    A:  0%  C:  0%  G:  0%  T:100%      293/297   reads    TT\n",
      "  rs1112534         A:0      C:152    G:1      T:0      A:  0%  C: 99%  G:  1%  T:  0%      153/154   reads    CC\n",
      "  rs17287498        A:139    C:3      G:183    T:0      A: 43%  C:  1%  G: 56%  T:  0%      325/326   reads    AG\n",
      "  rs2032582         A:147    C:0      G:15     T:165    A: 45%  C:  0%  G:  5%  T: 50%      327/327   reads    AT\n",
      "  rs2069945         A:0      C:12     G:93     T:0      A:  0%  C: 11%  G: 89%  T:  0%      105/106   reads    GG\n",
      "  rs2307223         A:244    C:0      G:0      T:0      A:100%  C:  0%  G:  0%  T:  0%      244/249   reads    AA\n",
      "  rs2853525         A:0      C:152    G:0      T:159    A:  0%  C: 49%  G:  0%  T: 51%      311/312   reads    CT\n",
      "  rs3091244         A:0      C:205    G:3      T:0      A:  0%  C: 99%  G:  1%  T:  0%      208/212   reads    CC\n",
      "  rs34741930        A:4      C:217    G:0      T:0      A:  2%  C: 98%  G:  0%  T:  0%      221/224   reads    CC\n",
      "  rs35528968        A:204    C:0      G:0      T:12     A: 94%  C:  0%  G:  0%  T:  6%      216/218   reads    AA\n",
      "  rs356167          A:133    C:0      G:235    T:0      A: 36%  C:  0%  G: 64%  T:  0%      368/385   reads    AG\n",
      "  rs433342          A:0      C:15     G:316    T:0      A:  0%  C:  5%  G: 95%  T:  0%      331/335   reads    GG\n",
      "  rs5030240         A:0      C:0      G:90     T:62     A:  0%  C:  0%  G: 59%  T: 41%      152/154   reads    GT\n",
      "  rs727241          A:0      C:0      G:0      T:277    A:  0%  C:  0%  G:  0%  T:100%      277/279   reads    TT\n",
      "  rs9274701_alt     A:13     C:0      G:130    T:0      A:  9%  C:  0%  G: 91%  T:  0%      143/146   reads    GG\n",
      "  rs9329104         A:200    C:0      G:163    T:0      A: 55%  C:  0%  G: 45%  T:  0%      363/366   reads    AG\n",
      "\n",
      "SNP's for sample NB08 (9947)\n",
      "  rs1008686         A:0      C:0      G:0      T:472    A:  0%  C:  0%  G:  0%  T:100%      472/479   reads    TT\n",
      "  rs1112534         A:0      C:65     G:3      T:97     A:  0%  C: 39%  G:  2%  T: 59%      165/166   reads    CT\n",
      "  rs17287498        A:0      C:6      G:365    T:0      A:  0%  C:  2%  G: 98%  T:  0%      371/384   reads    GG\n",
      "  rs2032582         A:0      C:0      G:130    T:132    A:  0%  C:  0%  G: 50%  T: 50%      262/267   reads    GT\n",
      "  rs2069945         A:0      C:249    G:0      T:0      A:  0%  C:100%  G:  0%  T:  0%      249/251   reads    CC\n",
      "  rs2307223         A:228    C:0      G:0      T:155    A: 60%  C:  0%  G:  0%  T: 40%      383/396   reads    AT\n",
      "  rs2853525         A:0      C:106    G:0      T:174    A:  0%  C: 38%  G:  0%  T: 62%      280/282   reads    CT\n",
      "  rs3091244         A:0      C:94     G:13     T:104    A:  0%  C: 45%  G:  6%  T: 49%      211/212   reads    CT\n",
      "  rs34741930        A:17     C:234    G:0      T:0      A:  7%  C: 93%  G:  0%  T:  0%      251/256   reads    CC\n",
      "  rs35528968        A:122    C:0      G:0      T:10     A: 92%  C:  0%  G:  0%  T:  8%      132/133   reads    AA\n",
      "  rs356167          A:0      C:107    G:199    T:0      A:  0%  C: 35%  G: 65%  T:  0%      306/341   reads    CG\n",
      "  rs433342          A:0      C:154    G:99     T:0      A:  0%  C: 61%  G: 39%  T:  0%      253/263   reads    CG\n",
      "  rs5030240         A:0      C:60     G:86     T:0      A:  0%  C: 41%  G: 59%  T:  0%      146/149   reads    CG\n",
      "  rs727241          A:0      C:0      G:0      T:276    A:  0%  C:  0%  G:  0%  T:100%      276/278   reads    TT\n",
      "  rs9274701_alt     A:0      C:129    G:175    T:0      A:  0%  C: 42%  G: 58%  T:  0%      304/305   reads    CG\n",
      "  rs9329104         A:344    C:0      G:0      T:0      A:100%  C:  0%  G:  0%  T:  0%      344/348   reads    AA\n",
      "\n",
      "SNP's for sample NB07 (9948)\n",
      "  rs1008686         A:0      C:0      G:0      T:179    A:  0%  C:  0%  G:  0%  T:100%      179/185   reads    TT\n",
      "  rs1112534         A:0      C:96     G:0      T:0      A:  0%  C:100%  G:  0%  T:  0%       96/97    reads    CC\n",
      "  rs17287498        A:0      C:2      G:127    T:0      A:  0%  C:  2%  G: 98%  T:  0%      129/129   reads    GG\n",
      "  rs2032582         A:0      C:0      G:148    T:0      A:  0%  C:  0%  G:100%  T:  0%      148/150   reads    GG\n",
      "  rs2069945         A:0      C:7      G:34     T:0      A:  0%  C: 17%  G: 83%  T:  0%       41/42    reads    GG\n",
      "  rs2307223         A:108    C:0      G:0      T:73     A: 60%  C:  0%  G:  0%  T: 40%      181/183   reads    AT\n",
      "  rs2853525         A:0      C:83     G:0      T:9      A:  0%  C: 90%  G:  0%  T: 10%       92/93    reads    CC\n",
      "  rs3091244         A:41     C:0      G:5      T:52     A: 42%  C:  0%  G:  5%  T: 53%       98/98    reads    AT\n",
      "  rs34741930        A:3      C:96     G:0      T:0      A:  3%  C: 97%  G:  0%  T:  0%       99/100   reads    CC\n",
      "  rs35528968        A:98     C:0      G:0      T:5      A: 95%  C:  0%  G:  0%  T:  5%      103/104   reads    AA\n",
      "  rs356167          A:49     C:0      G:114    T:0      A: 30%  C:  0%  G: 70%  T:  0%      163/171   reads    AG\n",
      "  rs433342          A:0      C:6      G:138    T:0      A:  0%  C:  4%  G: 96%  T:  0%      144/144   reads    GG\n",
      "  rs5030240         A:0      C:0      G:86     T:0      A:  0%  C:  0%  G:100%  T:  0%       86/86    reads    GG\n",
      "  rs727241          A:0      C:0      G:0      T:196    A:  0%  C:  0%  G:  0%  T:100%      196/197   reads    TT\n",
      "  rs9274701_alt     A:0      C:113    G:1      T:0      A:  0%  C: 99%  G:  1%  T:  0%      114/115   reads    CC\n",
      "  rs9329104         A:104    C:0      G:63     T:0      A: 62%  C:  0%  G: 38%  T:  0%      167/169   reads    AG\n",
      "\n",
      "SNP's for sample NB10 (G59)\n",
      "  rs1008686         A:345    C:0      G:0      T:448    A: 44%  C:  0%  G:  0%  T: 56%      793/801   reads    AT\n",
      "  rs1112534         A:0      C:357    G:2      T:0      A:  0%  C: 99%  G:  1%  T:  0%      359/363   reads    CC\n",
      "  rs17287498        A:0      C:19     G:372    T:368    A:  0%  C:  3%  G: 49%  T: 48%      759/767   reads    GT\n",
      "  rs2032582         A:345    C:0      G:22     T:296    A: 52%  C:  0%  G:  3%  T: 45%      663/669   reads    AT\n",
      "  rs2069945         A:149    C:174    G:0      T:0      A: 46%  C: 54%  G:  0%  T:  0%      323/333   reads    AC\n",
      "  rs2307223         A:270    C:0      G:194    T:0      A: 58%  C:  0%  G: 42%  T:  0%      464/467   reads    AG\n",
      "  rs2853525         A:0      C:0      G:0      T:477    A:  0%  C:  0%  G:  0%  T:100%      477/484   reads    TT\n",
      "  rs3091244         A:0      C:415    G:12     T:0      A:  0%  C: 97%  G:  3%  T:  0%      427/434   reads    CC\n",
      "  rs34741930        A:27     C:655    G:0      T:0      A:  4%  C: 96%  G:  0%  T:  0%      682/692   reads    CC\n",
      "  rs35528968        A:287    C:0      G:0      T:18     A: 94%  C:  0%  G:  0%  T:  6%      305/310   reads    AA\n",
      "  rs356167          A:0      C:213    G:344    T:0      A:  0%  C: 38%  G: 62%  T:  0%      557/602   reads    CG\n",
      "  rs433342          A:339    C:28     G:380    T:0      A: 45%  C:  4%  G: 51%  T:  0%      747/753   reads    AG\n",
      "  rs5030240         A:0      C:0      G:182    T:160    A:  0%  C:  0%  G: 53%  T: 47%      342/343   reads    GT\n",
      "  rs727241          A:0      C:222    G:0      T:371    A:  0%  C: 37%  G:  0%  T: 63%      593/595   reads    CT\n",
      "  rs9274701_alt     A:0      C:419    G:1      T:0      A:  0%  C:100%  G:  0%  T:  0%      420/422   reads    CC\n",
      "  rs9329104         A:553    C:0      G:0      T:0      A:100%  C:  0%  G:  0%  T:  0%      553/563   reads    AA\n",
      "\n",
      "SNP's for sample NB12 (G62)\n",
      "  rs1008686         A:81     C:0      G:0      T:9      A: 90%  C:  0%  G:  0%  T: 10%       90/91    reads    AA\n",
      "  rs1112534         A:0      C:0      G:0      T:46     A:  0%  C:  0%  G:  0%  T:100%       46/47    reads    TT\n",
      "  rs17287498        A:0      C:2      G:90     T:0      A:  0%  C:  2%  G: 98%  T:  0%       92/94    reads    GG\n",
      "  rs2032582         A:0      C:0      G:94     T:0      A:  0%  C:  0%  G:100%  T:  0%       94/94    reads    GG\n",
      "  rs2069945         A:0      C:13     G:10     T:0      A:  0%  C: 57%  G: 43%  T:  0%       23/23    reads    CG\n",
      "  rs2307223         A:81     C:0      G:0      T:0      A:100%  C:  0%  G:  0%  T:  0%       81/86    reads    AA\n",
      "  rs2853525         A:0      C:0      G:0      T:30     A:  0%  C:  0%  G:  0%  T:100%       30/32    reads    TT\n",
      "  rs3091244         A:0      C:61     G:0      T:0      A:  0%  C:100%  G:  0%  T:  0%       61/63    reads    CC\n",
      "  rs34741930        A:4      C:59     G:0      T:0      A:  6%  C: 94%  G:  0%  T:  0%       63/63    reads    CC\n",
      "  rs35528968        A:38     C:0      G:0      T:1      A: 97%  C:  0%  G:  0%  T:  3%       39/39    reads    AA\n",
      "  rs356167          A:0      C:47     G:42     T:0      A:  0%  C: 53%  G: 47%  T:  0%       89/94    reads    CG\n",
      "  rs433342          A:0      C:3      G:101    T:0      A:  0%  C:  3%  G: 97%  T:  0%      104/106   reads    GG\n",
      "  rs5030240         A:0      C:17     G:24     T:0      A:  0%  C: 41%  G: 59%  T:  0%       41/41    reads    CG\n",
      "  rs727241          A:0      C:0      G:0      T:90     A:  0%  C:  0%  G:  0%  T:100%       90/90    reads    TT\n",
      "  rs9274701_alt     A:0      C:56     G:0      T:0      A:  0%  C:100%  G:  0%  T:  0%       56/56    reads    CC\n",
      "  rs9329104         A:70     C:0      G:0      T:0      A:100%  C:  0%  G:  0%  T:  0%       70/70    reads    AA\n",
      "\n"
     ]
    }
   ],
   "source": [
    "# Get all sample genotypes\n",
    "#\n",
    "excludeSnp = [] #['rs9274701'] # Amplicon is found, but content is not as expected\n",
    "genotypes  = {}\n",
    "\n",
    "for sampleName in sorted(sampleMap, key=lambda k: sampleMap[k]):\n",
    "  print(\"SNP's for sample {} ({})\".format(sampleName, sampleMap[sampleName]))\n",
    "  genotypes[sampleName] = {}\n",
    "  vcfFile               = os.path.join(resultDir, '{}_noqual_direct_mapping.vcf'.format(sampleName))\n",
    "  \n",
    "  d = genotype(vcfFile, 26)\n",
    "  \n",
    "  for snpName in sorted(d):\n",
    "    t = sum(d[snpName]['alleles'].values())\n",
    "    \n",
    "    # Likely genotype\n",
    "    gg = {}\n",
    "    vv = sorted([int(c) for c in d[snpName]['alleles'].values()], reverse=True)\n",
    "    \n",
    "    for g, c in d[snpName]['alleles'].items():\n",
    "      if c not in gg:\n",
    "        gg[c] = [g]\n",
    "      else:\n",
    "        gg[c].append(g)\n",
    "    # Second allele must be at least 10% of main allele or it is ignored.\n",
    "    # Third and fourth alleles are always ignored if present.\n",
    "    #if len(vv) > 1 and vv[1] > vv[0]/10:\n",
    "    if len(vv) > 1 and vv[1] > vv[0]/4:\n",
    "      if len(gg[vv[0]]) > 1:\n",
    "        aa = ''.join(gg[vv[0]])\n",
    "      else:\n",
    "        aa = gg[vv[0]][0] + gg[vv[1]][0]\n",
    "    else:\n",
    "      aa = gg[vv[0]][0] + gg[vv[0]][0]\n",
    "    \n",
    "    o = '  {:<14}  '.format(snpName)\n",
    "    \n",
    "    for g in sorted(d[snpName]['alleles']):\n",
    "      o += '  {}:{:<5}'.format(g, d[snpName]['alleles'][g])\n",
    "    for g in sorted(d[snpName]['alleles']):\n",
    "      if t > 0:\n",
    "        o += '  {}:{:>3}%'.format(g, round(100*d[snpName]['alleles'][g]/t))\n",
    "      else:\n",
    "        o += '  {}:{:>3}%'.format(g, '???')\n",
    "    o += '    {:>5}/{:<5} reads'.format(t, d[snpName]['depth'])\n",
    "    o += '    {}'.format(''.join(sorted(aa)))\n",
    "    genotypes[sampleName][snpName] = ''.join(sorted(aa))\n",
    "    print(o)\n",
    "  \n",
    "  print('')\n",
    "  "
   ]
  },
  {
   "cell_type": "code",
   "execution_count": 44,
   "metadata": {
    "collapsed": false
   },
   "outputs": [
    {
     "name": "stdout",
     "output_type": "stream",
     "text": [
      "SNP                  2800       9947       9948        G59        G62\n",
      "rs1008686              TT         TT         TT         AT         AA\n",
      "rs1112534              CC         CT         CC         CC         TT\n",
      "rs17287498             AG         GG         GG         GT         GG\n",
      "rs2032582              AT         GT         GG         AT         GG\n",
      "rs2069945              GG         CC         GG         AC         CG\n",
      "rs2307223              AA         AT         AT         AG         AA\n",
      "rs2853525              CT         CT         CC         TT         TT\n",
      "rs3091244              CC         CT         AT         CC         CC\n",
      "rs34741930             CC         CC         CC         CC         CC\n",
      "rs35528968             AA         AA         AA         AA         AA\n",
      "rs356167               AG         CG         AG         CG         CG\n",
      "rs433342               GG         CG         GG         AG         GG\n",
      "rs5030240              GT         CG         GG         GT         CG\n",
      "rs727241               TT         TT         TT         CT         TT\n",
      "rs9274701_alt          GG         CG         CC         CC         CC\n",
      "rs9329104              AG         AA         AG         AA         AA\n"
     ]
    }
   ],
   "source": [
    "# Genotype overview\n",
    "#\n",
    "h = 'SNP           '\n",
    "snpNames = set()\n",
    "\n",
    "sortedSampleNames = sorted(sampleMap, key=lambda k: sampleMap[k])\n",
    "\n",
    "for sampleName in sortedSampleNames:\n",
    "  h += ' {:>10}'.format(sampleMap[sampleName])\n",
    "  \n",
    "  for snpName in genotypes[sampleName]:\n",
    "    snpNames.add(snpName)\n",
    "print(h)\n",
    "\n",
    "for snpName in sorted(snpNames):\n",
    "  r = '{:<14}'.format(snpName)\n",
    "  \n",
    "  for sampleName in sortedSampleNames:\n",
    "    if snpName in genotypes[sampleName]:\n",
    "      aa = ''.join(sorted(genotypes[sampleName][snpName]))\n",
    "    else:\n",
    "      aa = ''\n",
    "    r += ' {:>10}'.format(aa)\n",
    "    \n",
    "    \n",
    "  print(r)\n"
   ]
  },
  {
   "cell_type": "code",
   "execution_count": null,
   "metadata": {
    "collapsed": true
   },
   "outputs": [],
   "source": []
  }
 ],
 "metadata": {
  "kernelspec": {
   "display_name": "Python 3",
   "language": "python",
   "name": "python3"
  },
  "language_info": {
   "codemirror_mode": {
    "name": "ipython",
    "version": 3
   },
   "file_extension": ".py",
   "mimetype": "text/x-python",
   "name": "python",
   "nbconvert_exporter": "python",
   "pygments_lexer": "ipython3",
   "version": "3.3.0"
  }
 },
 "nbformat": 4,
 "nbformat_minor": 2
}
