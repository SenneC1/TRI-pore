{
 "cells": [
  {
   "cell_type": "markdown",
   "metadata": {},
   "source": [
    "# Tri-allelic SNPs Illumina \n",
    "\n",
    "##1) Loading sequencing data\n",
    "\n",
    "##2) Mapping of the reads against the reference\n",
    "    Direct mapping using BWA-0.7.15\n",
    "\n",
    "##3) Determine the SNP genotype on position 26 in the mapping\n"
   ]
  },
  {
   "cell_type": "code",
   "execution_count": null,
   "metadata": {
    "collapsed": true
   },
   "outputs": [],
   "source": []
  },
  {
   "cell_type": "markdown",
   "metadata": {},
   "source": [
    "###1) Loading sequencing data"
   ]
  },
  {
   "cell_type": "code",
   "execution_count": null,
   "metadata": {
    "collapsed": false
   },
   "outputs": [],
   "source": [
    "# Init\n",
    "\n",
    "import os, glob\n",
    "\n",
    "projectDir    = '/media/genomics/nanopore/projects/tri-allelic_SNPs/20180219_illumina_analysis_yg'\n",
    "rawDataDir    = '/media/genomics/nanopore/run_data/20180219_Illumina_tri-allelic/PCRfree_Senne-65584528'\n",
    "fastQDir      = os.path.join(projectDir, 'raw_data')\n",
    "mappedDataDir = os.path.join(projectDir, 'mapped_data')\n",
    "snpRefFile    = os.path.join(projectDir, 'triallelic_snp_regions.fasta')\n",
    "sampleList    = ['2800', '9947', '9948', 'Gednap50_Person_C', 'Gednap51_Person_C']\n",
    "\n",
    "bwa           = '/opt/tools/bwa-0.7.15'\n",
    "samtools      = '/opt/tools/samtools-1.3.1'\n",
    "bcftools      = '/opt/tools/bcftools-1.3.1'\n",
    "\n",
    "# Create dirs\n",
    "for d in [projectDir, fastQDir, mappedDataDir]:\n",
    "  if not os.path.exists(d):\n",
    "    print('Creating directory {}'.format(d))\n",
    "    os.makedirs(d)\n",
    "  else:\n",
    "    print('Directory {} exists'.format(d))"
   ]
  },
  {
   "cell_type": "code",
   "execution_count": null,
   "metadata": {
    "collapsed": false
   },
   "outputs": [],
   "source": [
    "# Copy and rename fastq files (handle swithed samples)\n",
    "\n",
    "fastqNameMap = {\n",
    "  '2800_S1_L001_R1_001.fastq': '2800_R1.fastq',\n",
    "  '2800_S1_L001_R2_001.fastq': '2800_R2.fastq',\n",
    "  '9947_S3_L001_R1_001.fastq': '9948_R1.fastq',\n",
    "  '9947_S3_L001_R2_001.fastq': '9948_R2.fastq',\n",
    "  '9948_S2_L001_R1_001.fastq': '9947_R1.fastq',\n",
    "  '9948_S2_L001_R2_001.fastq': '9947_R2.fastq',\n",
    "  'G59_S5_L001_R1_001.fastq':  'G59_R1.fastq',\n",
    "  'G59_S5_L001_R2_001.fastq':  'G59_R2.fastq',\n",
    "  'G62_S4_L001_R1_001.fastq':  'G62_R1.fastq',\n",
    "  'G62_S4_L001_R2_001.fastq':  'G62_R2.fastq'\n",
    "}\n",
    "\n",
    "for fastqOld, fastqNew in fastqNameMap.items():\n",
    "  print('{} -> {}'.format(fastqOld, fastqNew))\n",
    "  ! cp {os.path.join(rawDataDir, fastqOld)} {os.path.join(fastQDir, fastqNew)}\n",
    "  \n",
    "print('Done')"
   ]
  },
  {
   "cell_type": "markdown",
   "metadata": {},
   "source": [
    "###2) Mapping of the reads against the reference"
   ]
  },
  {
   "cell_type": "code",
   "execution_count": null,
   "metadata": {
    "collapsed": false
   },
   "outputs": [],
   "source": [
    "# Index reference\n",
    "\n",
    "! {bwa} index {snpRefFile}\n",
    "\n",
    "print('Done')"
   ]
  },
  {
   "cell_type": "code",
   "execution_count": null,
   "metadata": {
    "collapsed": false,
    "scrolled": true
   },
   "outputs": [],
   "source": [
    "# Map reads to reference SNP region sequences (51 nt), call variants\n",
    "#\n",
    "for sampleName in sorted(sampleList):\n",
    "  # Map amplicons\n",
    "  read1File = os.path.join(fastQDir, '{}_R1.fastq'.format(sampleName))\n",
    "  read2File = os.path.join(fastQDir, '{}_R2.fastq'.format(sampleName))\n",
    "  bamFile   = os.path.join(mappedDataDir, '{}_direct_mapping.bam'.format(sampleName))\n",
    "  vcfFile   = bamFile.replace('.bam', '.vcf')\n",
    "  \n",
    "  ! {bwa} mem -t 10 {snpRefFile} {read1File}  {read2File} | {samtools} view -Sb - | {samtools} sort -o {bamFile} -\n",
    "  ! {samtools} index {bamFile}\n",
    "  \n",
    "  # Variant calling\n",
    "  !{samtools} mpileup -d 100000 -Buf {snpRefFile} -t AD {bamFile} | {bcftools} call -V indels -m - > {vcfFile}\n",
    "  \n",
    "\n",
    "print('Done')"
   ]
  },
  {
   "cell_type": "markdown",
   "metadata": {
    "collapsed": true
   },
   "source": [
    "###3) Determine the SNP genotype on position 26 in the mapping"
   ]
  },
  {
   "cell_type": "code",
   "execution_count": 4,
   "metadata": {
    "collapsed": true
   },
   "outputs": [],
   "source": [
    "def genotype(vcfFile, snpPos):\n",
    "  \"\"\"\n",
    "  Extract genotype data at given position from a given vcf file.\n",
    "  \"\"\"\n",
    "  genotypeData = {}\n",
    "  \n",
    "  with open (vcfFile, 'rt') as inFile:\n",
    "    for line in inFile:\n",
    "      if line.startswith('#'): continue\n",
    "      \n",
    "      snpName, pos, id, ref, alt, qual, filt, info, form, formValues = line.rstrip().split()\n",
    "      \n",
    "      if int(pos) == snpPos:\n",
    "        k        = form.split(':')\n",
    "        v        = formValues.split(':')         \n",
    "        formData = {}\n",
    "        \n",
    "        for i in range(len(k)):\n",
    "          formData[k[i]] = v[i]\n",
    "          \n",
    "        infoData = {}\n",
    "        for t in info.split(';'):\n",
    "          k,v = t.split('=')\n",
    "          infoData[k] = v\n",
    "          \n",
    "        alleles = ref\n",
    "        if alt != '.':\n",
    "          alleles += ''.join(alt.split(','))\n",
    "          \n",
    "        depths                = [int(d) for d in formData['AD'].split(',')]\n",
    "        gt                    = [alleles[int(i)] for i in formData['GT'].split('/') ]\n",
    "        genotypeData[snpName] = {'pos': pos, 'alleles': {'A': 0, 'G': 0, 'C': 0, 'T':0}, 'genotype': '/'.join(gt), 'depth': int(infoData['DP'])}\n",
    "        \n",
    "        for i in range(len(alleles)):\n",
    "          genotypeData[snpName]['alleles'][alleles[i]] = depths[i]\n",
    "        \n",
    "  return genotypeData\n"
   ]
  },
  {
   "cell_type": "code",
   "execution_count": null,
   "metadata": {
    "collapsed": false,
    "scrolled": true
   },
   "outputs": [],
   "source": [
    "# Get all sample genotypes\n",
    "#\n",
    "excludeSnp = [] #['rs9274701'] # Amplicon is found, but content is not as expected\n",
    "genotypes  = {}\n",
    "\n",
    "for sampleName in sorted(sampleList):\n",
    "  print(\"SNP's for sample {}\".format(sampleName))\n",
    "  genotypes[sampleName] = {}\n",
    "  vcfFile               = os.path.join(mappedDataDir, '{}_direct_mapping.vcf'.format(sampleName))\n",
    "  \n",
    "  d = genotype(vcfFile, 26)\n",
    "  \n",
    "  for snpName in sorted(d):\n",
    "    t = sum(d[snpName]['alleles'].values())\n",
    "    \n",
    "    # Likely genotype\n",
    "    gg = {}\n",
    "    vv = sorted([int(c) for c in d[snpName]['alleles'].values()], reverse=True)\n",
    "    \n",
    "    for g, c in d[snpName]['alleles'].items():\n",
    "      if c not in gg:\n",
    "        gg[c] = [g]\n",
    "      else:\n",
    "        gg[c].append(g)\n",
    "    # Second allele must be at least 25% of main allele or it is ignored.\n",
    "    if len(vv) > 1 and vv[1] > vv[0]/4:\n",
    "      if len(gg[vv[0]]) > 1:\n",
    "        aa = ''.join(gg[vv[0]])\n",
    "      else:\n",
    "        aa = gg[vv[0]][0] + gg[vv[1]][0]\n",
    "    else:\n",
    "      aa = gg[vv[0]][0] + gg[vv[0]][0]\n",
    "    \n",
    "    o = '  {:<14}  '.format(snpName)\n",
    "    \n",
    "    for g in sorted(d[snpName]['alleles']):\n",
    "      o += '  {}:{:<5}'.format(g, d[snpName]['alleles'][g])\n",
    "    for g in sorted(d[snpName]['alleles']):\n",
    "      if t > 0:\n",
    "        o += '  {}:{:>3}%'.format(g, round(100*d[snpName]['alleles'][g]/t))\n",
    "      else:\n",
    "        o += '  {}:{:>3}%'.format(g, '???')\n",
    "    o += '    {:>5}/{:<5} reads'.format(t, d[snpName]['depth'])\n",
    "    o += '    {}'.format(''.join(sorted(aa)))\n",
    "    genotypes[sampleName][snpName] = ''.join(sorted(aa))\n",
    "    print(o)\n",
    "  \n",
    "  print('')\n",
    "  "
   ]
  }
 ],
 "metadata": {
  "kernelspec": {
   "display_name": "Python 3",
   "language": "python",
   "name": "python3"
  },
  "language_info": {
   "codemirror_mode": {
    "name": "ipython",
    "version": 3
   },
   "file_extension": ".py",
   "mimetype": "text/x-python",
   "name": "python",
   "nbconvert_exporter": "python",
   "pygments_lexer": "ipython3",
   "version": "3.3.0"
  }
 },
 "nbformat": 4,
 "nbformat_minor": 2
}
