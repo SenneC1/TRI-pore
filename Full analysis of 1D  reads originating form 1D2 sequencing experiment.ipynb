{
 "cells": [
  {
   "cell_type": "markdown",
   "metadata": {},
   "source": [
    "## Ananlysis of 1D reads\n",
    "\n",
    "### 1) Recovery 1D reads with a Phred quality > 5\n",
    "    Retrieve all 1D reads with q >= 5 (the 1D reads from a 1D2 run are not split into pass/fail groups)\n",
    "### 2) Split reads per sample using barcodes to identify each sample\n",
    "    Using a fuzzy regex allowing for 3 mismatches \n",
    "### 3) Mapping of the reads against the reference\n",
    "    Direct mapping using the ont2d settings against the references SNP regions (51 nt)\n",
    "### 4) Detemine the SNP genotype on position 26 in the mappings \n"
   ]
  },
  {
   "cell_type": "markdown",
   "metadata": {},
   "source": [
    "###1) Recovery of 1D reads"
   ]
  },
  {
   "cell_type": "code",
   "execution_count": 1,
   "metadata": {
    "collapsed": true
   },
   "outputs": [],
   "source": [
    "# Init\n",
    "#\n",
    "import os, glob\n",
    "import regex\n",
    "from multiprocessing import Pool\n",
    "\n",
    "rawDataDir       = '/media/genomics/nanopore/run_data/20171219_nanopore_tri-allelic-1D2_basecalled_albacore-2.1.3'\n",
    "projectDir       = '/media/genomics/nanopore/projects/tri-allelic_SNPs/20171220_nanopore_1d2_analysis/Github'\n",
    "rawDataQCDir     = os.path.join(projectDir, 'raw_data_qc_albacore-2.1.3')\n",
    "resultDir        = os.path.join(projectDir, 'one_d_read_analysis_q5_or_better')\n",
    "oneDFastqFile    = os.path.join(rawDataDir, 'workspace', 'fastq_runid_d4e8a3e33e86f12065040abb8f96841c1613b6b3.fastq')\n",
    "snpRefFile       = os.path.join(projectDir, 'triallelic_snp_regions.fasta')\n",
    "barcodeFile      = os.path.join(projectDir, 'barcodes_tri-allelic.csv')\n",
    "sampleMap        = {\n",
    "  'NB07': '9948',\n",
    "  'NB08': '9947',\n",
    "  'NB09': '2800',\n",
    "  'NB10': 'Gednap 50 Person C',\n",
    "  'NB12': 'Gednap 51 Person C'   \n",
    "}\n",
    "\n",
    "nanofilt   = 'NanoFilt'\n",
    "nanoplot   = 'NanoPlot'\n",
    "bwa        = '/opt/tools/bwa-0.7.15'\n",
    "samtools   = '/opt/tools/samtools-1.3.1'\n",
    "bcftools   = '/opt/tools/bcftools-1.3.1'\n"
   ]
  },
  {
   "cell_type": "code",
   "execution_count": null,
   "metadata": {
    "collapsed": false
   },
   "outputs": [],
   "source": [
    "! {nanofilt} --version "
   ]
  },
  {
   "cell_type": "code",
   "execution_count": 8,
   "metadata": {
    "collapsed": false
   },
   "outputs": [
    {
     "name": "stdout",
     "output_type": "stream",
     "text": [
      "5Done\n"
     ]
    }
   ],
   "source": [
    "# Rescue 1D reads with q factor 5 or better\n",
    "#\n",
    "oneDFastqQ5File = os.path.join(resultDir, os.path.basename(oneDFastqFile).replace('.fastq', '_q5.fastq'))\n",
    "\n",
    "! cat {oneDFastqFile} | {nanofilt} -q 5 --readtype 1D > {oneDFastqQ5File}\n",
    "\n",
    "print('Done')"
   ]
  },
  {
   "cell_type": "code",
   "execution_count": 10,
   "metadata": {
    "collapsed": false
   },
   "outputs": [
    {
     "name": "stdout",
     "output_type": "stream",
     "text": [
      "Original 1D reads (all q):             1119243\n",
      "Recovered 1D reads having q >= 5:       806463\n"
     ]
    }
   ],
   "source": [
    "# Original 1d (all q)\n",
    "r = ! wc -l {oneDFastqFile}\n",
    "count = int(r[0].split(' ')[0]) // 4\n",
    "print('Original 1D reads (all q):        {:>12d}'.format(count))\n",
    "\n",
    "# Recovered 1d (q => 5)\n",
    "r = ! wc -l {oneDFastqQ5File}\n",
    "count = int(r[0].split(' ')[0]) // 4\n",
    "print('Recovered 1D reads having q >= 5: {:>12d}'.format(count))"
   ]
  },
  {
   "cell_type": "code",
   "execution_count": 13,
   "metadata": {
    "collapsed": false
   },
   "outputs": [
    {
     "name": "stdout",
     "output_type": "stream",
     "text": [
      "Done\n"
     ]
    }
   ],
   "source": [
    "# Generate quality score plots\n",
    "\n",
    "# Rescued reads\n",
    "! {nanoplot} -t 10 --maxlength 3000 --fastq_rich {oneDFastqQ5File} -o {rawDataQCDir} -p 'recovered_q5_one_d_'\n",
    "\n",
    "print('Done')"
   ]
  },
  {
   "cell_type": "markdown",
   "metadata": {},
   "source": [
    "### 2) Split reads per sample using barcodes"
   ]
  },
  {
   "cell_type": "code",
   "execution_count": 17,
   "metadata": {
    "collapsed": true
   },
   "outputs": [],
   "source": [
    "# Utility functions\n",
    "#\n",
    "def reverseComplement(seq):\n",
    "  transTab = str.maketrans('agctyrwskmdvhbAGCTYRWSKMDVHB', 'tcgarywsmkhbdvTCGARYWSMKHBDV')\n",
    "  return seq.translate(transTab)[::-1]\n",
    "\n",
    "\n",
    "\n",
    "def loadReads(fileName):\n",
    "  \"\"\"\n",
    "  Return a dict with the sequencing reads (including quality scores) extracted from the given file\n",
    "  \"\"\"\n",
    "  rData = {}\n",
    "  with open(fileName, 'rt') as f:\n",
    "    cnt = 0\n",
    "\n",
    "    for line in f:\n",
    "      cnt += 1\n",
    "      if cnt % 4 == 1:\n",
    "        readName = line.rstrip()\n",
    "      elif cnt % 4 == 2:\n",
    "        readSeq = line.rstrip()\n",
    "      elif cnt % 4 == 0:\n",
    "        readQual = line.rstrip()\n",
    "        rData[readName] = {'s': readSeq, 'q': readQual}\n",
    "        if len(rData[readName]['s'])==0 or len(rData[readName]['q'])==0:\n",
    "          print('*** Partial read data: {}'.format(readName))\n",
    "            \n",
    "  return(rData)\n",
    "\n",
    "\n",
    "\n",
    "def findBarcodes(readName):\n",
    "  \"\"\"\n",
    "  Lookup all barcodes in the given read. Return a dict with the barcode hit counts for all reads.\n",
    "  \"\"\"\n",
    "  barcodeHits = {}\n",
    "  \n",
    "  for barcodeName in barcodeList:\n",
    "    # Lookup forward barcode sequence\n",
    "    for pattern in (barcodeRE[barcodeName]['f'], barcodeRE[barcodeName]['r']):\n",
    "      for match in pattern.finditer(readData[readName]['s']):\n",
    "        if readName not in barcodeHits:\n",
    "          barcodeHits[readName] = {}\n",
    "        if barcodeName not in barcodeHits[readName]:\n",
    "          barcodeHits[readName][barcodeName] = 1\n",
    "        else:\n",
    "          barcodeHits[readName][barcodeName] += 1\n",
    "          \n",
    "  return barcodeHits\n"
   ]
  },
  {
   "cell_type": "code",
   "execution_count": 18,
   "metadata": {
    "collapsed": false
   },
   "outputs": [
    {
     "name": "stdout",
     "output_type": "stream",
     "text": [
      "Found 5 barcodes:\n",
      "NB07 {'f': 'GTGTTACCGTGGGAATGAATCCTT', 'r': 'AAGGATTCATTCCCACGGTAACAC'}\n",
      "NB08 {'f': 'TTCAGGGAACAAACCAAGTTACGT', 'r': 'ACGTAACTTGGTTTGTTCCCTGAA'}\n",
      "NB09 {'f': 'AACTAGGCACAGCGAGTCTTGGTT', 'r': 'AACCAAGACTCGCTGTGCCTAGTT'}\n",
      "NB10 {'f': 'AAGCGTTGAAACCTTTGTCCTCTC', 'r': 'GAGAGGACAAAGGTTTCAACGCTT'}\n",
      "NB12 {'f': 'CAGGTAGAAAGAAGCAGAATCGGA', 'r': 'TCCGATTCTGCTTCTTTCTACCTG'}\n"
     ]
    }
   ],
   "source": [
    "# Load barcode data, compile regex\n",
    "#\n",
    "# Get the barcodes\n",
    "#\n",
    "barcodeList = {}\n",
    "barcodeRE   = {}\n",
    "maxMisMatch = 3\n",
    "\n",
    "with open(barcodeFile, 'rt') as f:\n",
    "  for line in f:\n",
    "    line = line.strip()\n",
    "    \n",
    "    # Ignore the column header line (should start with a '#')\n",
    "    if line.startswith('#'):\n",
    "      continue\n",
    "      \n",
    "    # Store\n",
    "    name, seq         = line.split(',')\n",
    "    barcodeList[name] = {'f': seq, 'r': reverseComplement(seq)}\n",
    "    \n",
    "    barcodeRE[name] = {\n",
    "      'f': regex.compile('(?e)({}){{e<={}}}'.format(barcodeList[name]['f'], maxMisMatch)),\n",
    "      'r': regex.compile('(?e)({}){{e<={}}}'.format(barcodeList[name]['r'], maxMisMatch))\n",
    "    }\n",
    "    \n",
    "print('Found {} barcodes:'.format(len(barcodeList)))\n",
    "for n in sorted(barcodeList):\n",
    "  print(n, barcodeList[n])"
   ]
  },
  {
   "cell_type": "code",
   "execution_count": 19,
   "metadata": {
    "collapsed": false
   },
   "outputs": [
    {
     "name": "stdout",
     "output_type": "stream",
     "text": [
      "Loaded 804922 1D reads\n"
     ]
    }
   ],
   "source": [
    "# Load 1D read data\n",
    "#\n",
    "readDataOneDQ5 = loadReads(oneDFastqQ5File)\n",
    "\n",
    "print('Loaded {} 1D reads'.format(len(readDataOneDQ5)))"
   ]
  },
  {
   "cell_type": "code",
   "execution_count": 20,
   "metadata": {
    "collapsed": false
   },
   "outputs": [
    {
     "name": "stdout",
     "output_type": "stream",
     "text": [
      "NB07 = 85628 (10.6%)\n",
      "NB08 = 102621 (12.7%)\n",
      "NB09 = 211231 (26.2%)\n",
      "NB10 = 182251 (22.6%)\n",
      "NB12 = 79046 (9.8%)\n",
      "reads having 1 barcodes = 596556 (74.1%)\n",
      "reads having 2 barcodes = 30534 (3.8%)\n",
      "reads having 3 barcodes = 1031 (0.1%)\n",
      "reads having 4 barcodes = 15 (0.0%)\n",
      "\n"
     ]
    }
   ],
   "source": [
    "# Identify barcodes in 1D reads\n",
    "#\n",
    "barcodeHitData1D  = {}\n",
    "readData          = readDataOneDQ5\n",
    "maxThread         = 20\n",
    "pool              = Pool(maxThread)\n",
    "bcHitList         = pool.map(findBarcodes, readDataOneDQ5.keys())  # list of {readname: {barcodename: hitcount}}\n",
    "pool.terminate()\n",
    "\n",
    "for d in bcHitList:\n",
    "  barcodeHitData1D.update(d)\n",
    "\n",
    "# Print stats\n",
    "barcodeStats1D = {}\n",
    " \n",
    "for readName in barcodeHitData1D:\n",
    "  n = 'reads having {} barcodes'.format(len(barcodeHitData1D[readName]))\n",
    "  if n in barcodeStats1D:\n",
    "    barcodeStats1D[n] += 1\n",
    "  else:\n",
    "    barcodeStats1D[n] = 1\n",
    "  \n",
    "  for barcodeName in barcodeHitData1D[readName]:\n",
    "    if barcodeName in barcodeStats1D:\n",
    "      barcodeStats1D[barcodeName] += 1\n",
    "    else:\n",
    "      barcodeStats1D[barcodeName] = 1\n",
    "\n",
    "for k in sorted(barcodeStats1D.keys()):\n",
    "  print('{} = {} ({:>.1f}%)'.format(k, barcodeStats1D[k], 100*barcodeStats1D[k]/len(readDataOneDQ5)))\n",
    "  \n",
    "print()"
   ]
  },
  {
   "cell_type": "code",
   "execution_count": 21,
   "metadata": {
    "collapsed": false
   },
   "outputs": [
    {
     "name": "stdout",
     "output_type": "stream",
     "text": [
      "Created /media/genomics/nanopore/projects/tri-allelic_SNPs/20171220_nanopore_1d2_analysis/one_d_read_analysis_q5_or_better/NB09.fastq\n",
      "Created /media/genomics/nanopore/projects/tri-allelic_SNPs/20171220_nanopore_1d2_analysis/one_d_read_analysis_q5_or_better/NB12.fastq\n",
      "Created /media/genomics/nanopore/projects/tri-allelic_SNPs/20171220_nanopore_1d2_analysis/one_d_read_analysis_q5_or_better/NB10.fastq\n",
      "Created /media/genomics/nanopore/projects/tri-allelic_SNPs/20171220_nanopore_1d2_analysis/one_d_read_analysis_q5_or_better/NB07.fastq\n",
      "Created /media/genomics/nanopore/projects/tri-allelic_SNPs/20171220_nanopore_1d2_analysis/one_d_read_analysis_q5_or_better/NB08.fastq\n",
      "Done\n"
     ]
    }
   ],
   "source": [
    "# Save 1D reads in fastq files per barcode (sample).  We keep only reads that have 1 type of barcode.\n",
    "#\n",
    "outFiles = {}\n",
    "\n",
    "for readName in barcodeHitData1D:\n",
    "  if len(barcodeHitData1D[readName]) == 1:\n",
    "    for barcodeName in barcodeHitData1D[readName]:\n",
    "      if barcodeName not in outFiles:\n",
    "        fastqFileName = os.path.join(resultDir, '{}.fastq'.format(barcodeName))\n",
    "        outFiles[barcodeName] = open(fastqFileName, 'wt')\n",
    "        print('Created {}'.format(fastqFileName))\n",
    "      \n",
    "      # Write fastq read\n",
    "      outFiles[barcodeName].write('{}\\n{}\\n+\\n{}\\n'.format(readName, readDataOneDQ5[readName]['s'], readDataOneDQ5[readName]['q']))\n",
    "      \n",
    "# Close files (required, otherwise buffers are not always flushed to disk!)\n",
    "for barcodeName in outFiles:\n",
    "  outFiles[barcodeName].close()\n",
    "  \n",
    "print('Done')"
   ]
  },
  {
   "cell_type": "code",
   "execution_count": 22,
   "metadata": {
    "collapsed": false
   },
   "outputs": [
    {
     "name": "stdout",
     "output_type": "stream",
     "text": [
      "Total reads: 804922\n",
      "NB07: 82158 (10.206951729484347 %) reads\n",
      "NB08: 74436 (9.247604115678289 %) reads\n",
      "NB09: 202455 (25.152126541453708 %) reads\n",
      "NB10: 174928 (21.73229207302074 %) reads\n",
      "NB12: 62579 (7.774542129547956 %) reads\n"
     ]
    }
   ],
   "source": [
    "# Count 1D reads per barcode (sample)\n",
    "#\n",
    "barcodeList  = ['NB07', 'NB08', 'NB09', 'NB10', 'NB12']\n",
    "barcodeReads = {}\n",
    "totalReads   = len(readDataOneDQ5)\n",
    "\n",
    "print('Total reads: {}'.format(totalReads))\n",
    "\n",
    "for barcodeName in barcodeList:\n",
    "  fastqFileName             = os.path.join(resultDir, '{}.fastq'.format(barcodeName))\n",
    "  barcodeReads[barcodeName] = loadReads(fastqFileName)\n",
    "  readCount                 = len(barcodeReads[barcodeName])\n",
    "  \n",
    "  print('{}: {} ({} %) reads'.format(barcodeName, readCount, 100*readCount/totalReads))"
   ]
  },
  {
   "cell_type": "markdown",
   "metadata": {},
   "source": [
    "### 3) Mapping of the reads against the reference"
   ]
  },
  {
   "cell_type": "code",
   "execution_count": 23,
   "metadata": {
    "collapsed": true
   },
   "outputs": [],
   "source": [
    "snpRefFile    = os.path.join(projectDir, 'triallelic_snp_regions.fasta')\n",
    "sampleMap     = {\n",
    "  'NB07': '9948',\n",
    "  'NB08': '9947',\n",
    "  'NB09': '2800',\n",
    "  'NB10': 'Gednap 50 Person C',\n",
    "  'NB12': 'Gednap 51 Person C'  \n",
    "}\n",
    "\n",
    "bwa        = '/opt/tools/bwa-0.7.15'\n",
    "samtools   = '/opt/tools/samtools-1.3.1'\n",
    "bcftools   = '/opt/tools/bcftools-1.3.1'"
   ]
  },
  {
   "cell_type": "code",
   "execution_count": 24,
   "metadata": {
    "collapsed": false,
    "scrolled": true
   },
   "outputs": [
    {
     "name": "stdout",
     "output_type": "stream",
     "text": [
      "[M::bwa_idx_load_from_disk] read 0 ALT contigs\n",
      "[M::process] read 82158 sequences (55608980 bp)...\n",
      "[M::mem_process_seqs] Processed 82158 reads in 24.277 CPU sec, 2.535 real sec\n",
      "[main] Version: 0.7.15-r1140\n",
      "[main] CMD: /opt/tools/bwa-0.7.15 mem -t 10 -x ont2d /media/genomics/nanopore/projects/tri-allelic_SNPs/20171220_nanopore_1d2_analysis/triallelic_snp_regions.fasta /media/genomics/nanopore/projects/tri-allelic_SNPs/20171220_nanopore_1d2_analysis/one_d_read_analysis_q5_or_better/NB07_noqual.fasta\n",
      "[main] Real time: 6.568 sec; CPU: 24.860 sec\n",
      "[mpileup] 1 samples in 1 input files\n",
      "Note: Neither --ploidy nor --ploidy-file given, assuming all sites are diploid\n",
      "[M::bwa_idx_load_from_disk] read 0 ALT contigs\n",
      "[M::process] read 74436 sequences (41952178 bp)...\n",
      "[M::mem_process_seqs] Processed 74436 reads in 25.193 CPU sec, 4.337 real sec\n",
      "[main] Version: 0.7.15-r1140\n",
      "[main] CMD: /opt/tools/bwa-0.7.15 mem -t 10 -x ont2d /media/genomics/nanopore/projects/tri-allelic_SNPs/20171220_nanopore_1d2_analysis/triallelic_snp_regions.fasta /media/genomics/nanopore/projects/tri-allelic_SNPs/20171220_nanopore_1d2_analysis/one_d_read_analysis_q5_or_better/NB08_noqual.fasta\n",
      "[main] Real time: 8.530 sec; CPU: 25.780 sec\n",
      "Note: Neither --ploidy nor --ploidy-file given, assuming all sites are diploid\n",
      "[mpileup] 1 samples in 1 input files\n",
      "[M::bwa_idx_load_from_disk] read 0 ALT contigs\n",
      "[M::process] read 143256 sequences (100001614 bp)...\n",
      "[M::process] read 59199 sequences (40041193 bp)...\n",
      "[M::mem_process_seqs] Processed 143256 reads in 46.312 CPU sec, 5.433 real sec\n",
      "[M::mem_process_seqs] Processed 59199 reads in 15.170 CPU sec, 1.535 real sec\n",
      "[main] Version: 0.7.15-r1140\n",
      "[main] CMD: /opt/tools/bwa-0.7.15 mem -t 10 -x ont2d /media/genomics/nanopore/projects/tri-allelic_SNPs/20171220_nanopore_1d2_analysis/triallelic_snp_regions.fasta /media/genomics/nanopore/projects/tri-allelic_SNPs/20171220_nanopore_1d2_analysis/one_d_read_analysis_q5_or_better/NB09_noqual.fasta\n",
      "[main] Real time: 14.492 sec; CPU: 62.469 sec\n",
      "Note: Neither --ploidy nor --ploidy-file given, assuming all sites are diploid\n",
      "[mpileup] 1 samples in 1 input files\n",
      "[M::bwa_idx_load_from_disk] read 0 ALT contigs\n",
      "[M::process] read 173358 sequences (100000251 bp)...\n",
      "[M::process] read 1570 sequences (913208 bp)...\n",
      "[M::mem_process_seqs] Processed 173358 reads in 53.469 CPU sec, 5.531 real sec\n",
      "[M::mem_process_seqs] Processed 1570 reads in 0.396 CPU sec, 0.041 real sec\n",
      "[main] Version: 0.7.15-r1140\n",
      "[main] CMD: /opt/tools/bwa-0.7.15 mem -t 10 -x ont2d /media/genomics/nanopore/projects/tri-allelic_SNPs/20171220_nanopore_1d2_analysis/triallelic_snp_regions.fasta /media/genomics/nanopore/projects/tri-allelic_SNPs/20171220_nanopore_1d2_analysis/one_d_read_analysis_q5_or_better/NB10_noqual.fasta\n",
      "[main] Real time: 12.814 sec; CPU: 54.928 sec\n",
      "Note: Neither --ploidy nor --ploidy-file given, assuming all sites are diploid\n",
      "[mpileup] 1 samples in 1 input files\n",
      "[M::bwa_idx_load_from_disk] read 0 ALT contigs\n",
      "[M::process] read 62579 sequences (37268128 bp)...\n",
      "[M::mem_process_seqs] Processed 62579 reads in 25.371 CPU sec, 2.599 real sec\n",
      "[main] Version: 0.7.15-r1140\n",
      "[main] CMD: /opt/tools/bwa-0.7.15 mem -t 10 -x ont2d /media/genomics/nanopore/projects/tri-allelic_SNPs/20171220_nanopore_1d2_analysis/triallelic_snp_regions.fasta /media/genomics/nanopore/projects/tri-allelic_SNPs/20171220_nanopore_1d2_analysis/one_d_read_analysis_q5_or_better/NB12_noqual.fasta\n",
      "[main] Real time: 5.504 sec; CPU: 25.805 sec\n",
      "Note: Neither --ploidy nor --ploidy-file given, assuming all sites are diploid\n",
      "[mpileup] 1 samples in 1 input files\n",
      "Done\n"
     ]
    }
   ],
   "source": [
    "# Map amplicons to reference SNP region sequences (51 nt), call variants\n",
    "#\n",
    "for sampleName in sorted(sampleMap):\n",
    "  # Map amplicons\n",
    "  fastqFile = os.path.join(resultDir, '{}.fastq'.format(sampleName))\n",
    "  fastaFile = os.path.join(resultDir, '{}_noqual.fasta'.format(sampleName))\n",
    "  bamFile   = fastaFile.replace('.fasta', '_direct_mapping.bam')\n",
    "  vcfFile   = fastaFile.replace('.fasta', '_direct_mapping.vcf')\n",
    "  \n",
    "  # Convert fastq to fasta\n",
    "  ! paste - - - - < {fastqFile} | cut -f 1,2 | sed 's/^@/>/' | tr \"\\t\" \"\\n\" > {fastaFile}\n",
    "  \n",
    "  # Map\n",
    "  ! {bwa} mem -t 10 -x ont2d {snpRefFile} {fastaFile} | {samtools} view -Sb - | {samtools} sort -o {bamFile} -\n",
    "  ! {samtools} index {bamFile}\n",
    "  \n",
    "  # Variant calling\n",
    "  !{samtools} mpileup -d 100000 -Buf {snpRefFile} -t AD {bamFile} | {bcftools} call -V indels -m - > {vcfFile}\n",
    "\n",
    "print('Done')"
   ]
  },
  {
   "cell_type": "markdown",
   "metadata": {},
   "source": [
    "### 4) Detemine the SNP genotype on position 26 in the mappings "
   ]
  },
  {
   "cell_type": "code",
   "execution_count": 25,
   "metadata": {
    "collapsed": true
   },
   "outputs": [],
   "source": [
    "def genotype(vcfFile, snpPos):\n",
    "  \"\"\"\n",
    "  Extract genotype data at given position from a given vcf file.\n",
    "  \"\"\"\n",
    "  genotypeData = {}\n",
    "  \n",
    "  with open (vcfFile, 'rt') as inFile:\n",
    "    for line in inFile:\n",
    "      if line.startswith('#'): continue\n",
    "      \n",
    "      snpName, pos, id, ref, alt, qual, filt, info, form, formValues = line.rstrip().split()\n",
    "      \n",
    "      if int(pos) == snpPos:\n",
    "        k        = form.split(':')\n",
    "        v        = formValues.split(':')         \n",
    "        formData = {}\n",
    "        \n",
    "        for i in range(len(k)):\n",
    "          formData[k[i]] = v[i]\n",
    "          \n",
    "        infoData = {}\n",
    "        for t in info.split(';'):\n",
    "          k,v = t.split('=')\n",
    "          infoData[k] = v\n",
    "          \n",
    "        alleles = ref\n",
    "        if alt != '.':\n",
    "          alleles += ''.join(alt.split(','))\n",
    "          \n",
    "        depths                = [int(d) for d in formData['AD'].split(',')]\n",
    "        gt                    = [alleles[int(i)] for i in formData['GT'].split('/') ]\n",
    "        genotypeData[snpName] = {'pos': pos, 'alleles': {'A': 0, 'G': 0, 'C': 0, 'T':0}, 'genotype': '/'.join(gt), 'depth': int(infoData['DP'])}\n",
    "        \n",
    "        for i in range(len(alleles)):\n",
    "          genotypeData[snpName]['alleles'][alleles[i]] = depths[i]\n",
    "        \n",
    "  return genotypeData\n"
   ]
  },
  {
   "cell_type": "code",
   "execution_count": 26,
   "metadata": {
    "collapsed": false,
    "scrolled": true
   },
   "outputs": [
    {
     "name": "stdout",
     "output_type": "stream",
     "text": [
      "SNP's for sample NB09 (2800)\n",
      "  rs1008686         A:0      C:0      G:0      T:8342   A:  0%  C:  0%  G:  0%  T:100%     8342/9048  reads    TT\n",
      "  rs1112534         A:0      C:3703   G:73     T:0      A:  0%  C: 98%  G:  2%  T:  0%     3776/3979  reads    CC\n",
      "  rs17287498        A:3850   C:600    G:4568   T:0      A: 43%  C:  7%  G: 51%  T:  0%     9018/9178  reads    AG\n",
      "  rs2032582         A:3665   C:0      G:818    T:3569   A: 46%  C:  0%  G: 10%  T: 44%     8052/8288  reads    AT\n",
      "  rs2069945         A:0      C:648    G:1948   T:0      A:  0%  C: 25%  G: 75%  T:  0%     2596/2773  reads    CG\n",
      "  rs2307223         A:6383   C:0      G:0      T:0      A:100%  C:  0%  G:  0%  T:  0%     6383/6847  reads    AA\n",
      "  rs2853525         A:0      C:3310   G:0      T:5529   A:  0%  C: 37%  G:  0%  T: 63%     8839/9014  reads    CT\n",
      "  rs3091244         A:0      C:3350   G:582    T:0      A:  0%  C: 85%  G: 15%  T:  0%     3932/4508  reads    CC\n",
      "  rs34741930        A:531    C:3756   G:0      T:0      A: 12%  C: 88%  G:  0%  T:  0%     4287/4586  reads    CC\n",
      "  rs35528968        A:4452   C:0      G:0      T:586    A: 88%  C:  0%  G:  0%  T: 12%     5038/5275  reads    AA\n",
      "  rs356167          A:5366   C:0      G:8130   T:0      A: 40%  C:  0%  G: 60%  T:  0%    13496/14552 reads    AG\n",
      "  rs433342          A:0      C:1242   G:7562   T:0      A:  0%  C: 14%  G: 86%  T:  0%     8804/9401  reads    GG\n",
      "  rs5030240         A:0      C:0      G:2916   T:1336   A:  0%  C:  0%  G: 69%  T: 31%     4252/4349  reads    GT\n",
      "  rs727241          A:0      C:0      G:0      T:8217   A:  0%  C:  0%  G:  0%  T:100%     8217/8434  reads    TT\n",
      "  rs9274701_alt     A:0      C:0      G:3324   T:0      A:  0%  C:  0%  G:100%  T:  0%     3324/3589  reads    GG\n",
      "  rs9329104         A:6751   C:0      G:3423   T:0      A: 66%  C:  0%  G: 34%  T:  0%    10174/10421 reads    AG\n",
      "\n",
      "SNP's for sample NB08 (9947)\n",
      "  rs1008686         A:0      C:0      G:0      T:8147   A:  0%  C:  0%  G:  0%  T:100%     8147/8954  reads    TT\n",
      "  rs1112534         A:0      C:1558   G:86     T:1663   A:  0%  C: 47%  G:  3%  T: 50%     3307/3337  reads    CT\n",
      "  rs17287498        A:0      C:388    G:6176   T:0      A:  0%  C:  6%  G: 94%  T:  0%     6564/7322  reads    GG\n",
      "  rs2032582         A:0      C:0      G:2952   T:2162   A:  0%  C:  0%  G: 58%  T: 42%     5114/5290  reads    GT\n",
      "  rs2069945         A:0      C:4460   G:0      T:0      A:  0%  C:100%  G:  0%  T:  0%     4460/4586  reads    CC\n",
      "  rs2307223         A:4430   C:0      G:0      T:2499   A: 64%  C:  0%  G:  0%  T: 36%     6929/7326  reads    AT\n",
      "  rs2853525         A:0      C:1801   G:0      T:3682   A:  0%  C: 33%  G:  0%  T: 67%     5483/5569  reads    CT\n",
      "  rs3091244         A:0      C:1351   G:365    T:1935   A:  0%  C: 37%  G: 10%  T: 53%     3651/3712  reads    CT\n",
      "  rs34741930        A:355    C:3736   G:0      T:0      A:  9%  C: 91%  G:  0%  T:  0%     4091/4412  reads    CC\n",
      "  rs35528968        A:1844   C:0      G:0      T:332    A: 85%  C:  0%  G:  0%  T: 15%     2176/2291  reads    AA\n",
      "  rs356167          A:0      C:3618   G:5449   T:0      A:  0%  C: 40%  G: 60%  T:  0%     9067/10216 reads    CG\n",
      "  rs433342          A:0      C:3501   G:1970   T:0      A:  0%  C: 64%  G: 36%  T:  0%     5471/5719  reads    CG\n",
      "  rs5030240         A:0      C:947    G:1691   T:0      A:  0%  C: 36%  G: 64%  T:  0%     2638/2745  reads    CG\n",
      "  rs727241          A:0      C:0      G:0      T:6445   A:  0%  C:  0%  G:  0%  T:100%     6445/6596  reads    TT\n",
      "  rs9274701_alt     A:0      C:1907   G:3363   T:0      A:  0%  C: 36%  G: 64%  T:  0%     5270/5472  reads    CG\n",
      "  rs9329104         A:8220   C:0      G:0      T:0      A:100%  C:  0%  G:  0%  T:  0%     8220/8460  reads    AA\n",
      "\n",
      "SNP's for sample NB07 (9948)\n",
      "  rs1008686         A:0      C:0      G:0      T:5127   A:  0%  C:  0%  G:  0%  T:100%     5127/5728  reads    TT\n",
      "  rs1112534         A:0      C:2647   G:62     T:0      A:  0%  C: 98%  G:  2%  T:  0%     2709/2836  reads    CC\n",
      "  rs17287498        A:0      C:286    G:3622   T:0      A:  0%  C:  7%  G: 93%  T:  0%     3908/4131  reads    GG\n",
      "  rs2032582         A:0      C:0      G:5269   T:0      A:  0%  C:  0%  G:100%  T:  0%     5269/5428  reads    GG\n",
      "  rs2069945         A:0      C:208    G:1172   T:0      A:  0%  C: 15%  G: 85%  T:  0%     1380/1480  reads    GG\n",
      "  rs2307223         A:2695   C:0      G:0      T:1537   A: 64%  C:  0%  G:  0%  T: 36%     4232/4515  reads    AT\n",
      "  rs2853525         A:0      C:2506   G:0      T:396    A:  0%  C: 86%  G:  0%  T: 14%     2902/3004  reads    CC\n",
      "  rs3091244         A:1297   C:0      G:367    T:1260   A: 44%  C:  0%  G: 13%  T: 43%     2924/2971  reads    AT\n",
      "  rs34741930        A:229    C:1707   G:0      T:0      A: 12%  C: 88%  G:  0%  T:  0%     1936/2121  reads    CC\n",
      "  rs35528968        A:2166   C:0      G:0      T:210    A: 91%  C:  0%  G:  0%  T:  9%     2376/2456  reads    AA\n",
      "  rs356167          A:2409   C:0      G:4134   T:0      A: 37%  C:  0%  G: 63%  T:  0%     6543/6999  reads    AG\n",
      "  rs433342          A:0      C:588    G:3254   T:0      A:  0%  C: 15%  G: 85%  T:  0%     3842/4116  reads    GG\n",
      "  rs5030240         A:0      C:0      G:2805   T:0      A:  0%  C:  0%  G:100%  T:  0%     2805/2903  reads    GG\n",
      "  rs727241          A:0      C:0      G:0      T:5499   A:  0%  C:  0%  G:  0%  T:100%     5499/5632  reads    TT\n",
      "  rs9274701_alt     A:0      C:2090   G:92     T:0      A:  0%  C: 96%  G:  4%  T:  0%     2182/2325  reads    CC\n",
      "  rs9329104         A:3951   C:0      G:1936   T:0      A: 67%  C:  0%  G: 33%  T:  0%     5887/6026  reads    AG\n",
      "\n",
      "SNP's for sample NB10 (G59)\n",
      "  rs1008686         A:5434   C:0      G:0      T:6509   A: 45%  C:  0%  G:  0%  T: 55%    11943/12564 reads    AT\n",
      "  rs1112534         A:0      C:5000   G:113    T:0      A:  0%  C: 98%  G:  2%  T:  0%     5113/5390  reads    CC\n",
      "  rs17287498        A:0      C:862    G:5323   T:6082   A:  0%  C:  7%  G: 43%  T: 50%    12267/12731 reads    GT\n",
      "  rs2032582         A:4824   C:0      G:987    T:3771   A: 50%  C:  0%  G: 10%  T: 39%     9582/9907  reads    AT\n",
      "  rs2069945         A:2039   C:3392   G:0      T:0      A: 38%  C: 62%  G:  0%  T:  0%     5431/5627  reads    AC\n",
      "  rs2307223         A:3857   C:0      G:2394   T:0      A: 62%  C:  0%  G: 38%  T:  0%     6251/6396  reads    AG\n",
      "  rs2853525         A:0      C:0      G:0      T:8565   A:  0%  C:  0%  G:  0%  T:100%     8565/8748  reads    TT\n",
      "  rs3091244         A:0      C:3821   G:782    T:0      A:  0%  C: 83%  G: 17%  T:  0%     4603/5342  reads    CC\n",
      "  rs34741930        A:816    C:6476   G:0      T:0      A: 11%  C: 89%  G:  0%  T:  0%     7292/7709  reads    CC\n",
      "  rs35528968        A:3713   C:0      G:0      T:509    A: 88%  C:  0%  G:  0%  T: 12%     4222/4404  reads    AA\n",
      "  rs356167          A:0      C:5039   G:6495   T:0      A:  0%  C: 44%  G: 56%  T:  0%    11534/12958 reads    CG\n",
      "  rs433342          A:4755   C:1667   G:4824   T:0      A: 42%  C: 15%  G: 43%  T:  0%    11246/11518 reads    AG\n",
      "  rs5030240         A:0      C:0      G:2873   T:2011   A:  0%  C:  0%  G: 59%  T: 41%     4884/5016  reads    GT\n",
      "  rs727241          A:0      C:2574   G:0      T:6448   A:  0%  C: 29%  G:  0%  T: 71%     9022/9113  reads    CT\n",
      "  rs9274701_alt     A:0      C:3889   G:120    T:0      A:  0%  C: 97%  G:  3%  T:  0%     4009/4219  reads    CC\n",
      "  rs9329104         A:9857   C:0      G:0      T:0      A:100%  C:  0%  G:  0%  T:  0%     9857/10124 reads    AA\n",
      "\n",
      "SNP's for sample NB12 (G62)\n",
      "  rs1008686         A:3664   C:0      G:0      T:584    A: 86%  C:  0%  G:  0%  T: 14%     4248/4361  reads    AA\n",
      "  rs1112534         A:0      C:0      G:52     T:1780   A:  0%  C:  0%  G:  3%  T: 97%     1832/1951  reads    TT\n",
      "  rs17287498        A:0      C:256    G:3551   T:0      A:  0%  C:  7%  G: 93%  T:  0%     3807/4092  reads    GG\n",
      "  rs2032582         A:0      C:0      G:5470   T:0      A:  0%  C:  0%  G:100%  T:  0%     5470/5649  reads    GG\n",
      "  rs2069945         A:0      C:1153   G:617    T:0      A:  0%  C: 65%  G: 35%  T:  0%     1770/1842  reads    CG\n",
      "  rs2307223         A:2993   C:0      G:0      T:0      A:100%  C:  0%  G:  0%  T:  0%     2993/3270  reads    AA\n",
      "  rs2853525         A:0      C:0      G:0      T:2212   A:  0%  C:  0%  G:  0%  T:100%     2212/2301  reads    TT\n",
      "  rs3091244         A:0      C:1627   G:261    T:0      A:  0%  C: 86%  G: 14%  T:  0%     1888/2145  reads    CC\n",
      "  rs34741930        A:210    C:1941   G:0      T:0      A: 10%  C: 90%  G:  0%  T:  0%     2151/2296  reads    CC\n",
      "  rs35528968        A:1390   C:0      G:0      T:218    A: 86%  C:  0%  G:  0%  T: 14%     1608/1684  reads    AA\n",
      "  rs356167          A:0      C:2330   G:3177   T:0      A:  0%  C: 42%  G: 58%  T:  0%     5507/6224  reads    CG\n",
      "  rs433342          A:0      C:677    G:3563   T:0      A:  0%  C: 16%  G: 84%  T:  0%     4240/4485  reads    GG\n",
      "  rs5030240         A:0      C:526    G:1077   T:0      A:  0%  C: 33%  G: 67%  T:  0%     1603/1670  reads    CG\n",
      "  rs727241          A:0      C:0      G:0      T:4066   A:  0%  C:  0%  G:  0%  T:100%     4066/4179  reads    TT\n",
      "  rs9274701_alt     A:0      C:1493   G:119    T:0      A:  0%  C: 93%  G:  7%  T:  0%     1612/1700  reads    CC\n",
      "  rs9329104         A:4103   C:0      G:0      T:0      A:100%  C:  0%  G:  0%  T:  0%     4103/4183  reads    AA\n",
      "\n"
     ]
    }
   ],
   "source": [
    "# Get all sample genotypes\n",
    "#\n",
    "excludeSnp = [] \n",
    "genotypes  = {}\n",
    "\n",
    "for sampleName in sorted(sampleMap, key=lambda k: sampleMap[k]):\n",
    "  print(\"SNP's for sample {} ({})\".format(sampleName, sampleMap[sampleName]))\n",
    "  genotypes[sampleName] = {}\n",
    "  vcfFile               = os.path.join(resultDir, '{}_noqual_direct_mapping.vcf'.format(sampleName))\n",
    "  \n",
    "  d = genotype(vcfFile, 26)\n",
    "  \n",
    "  for snpName in sorted(d):\n",
    "    t = sum(d[snpName]['alleles'].values())\n",
    "    \n",
    "    # Likely genotype\n",
    "    gg = {}\n",
    "    vv = sorted([int(c) for c in d[snpName]['alleles'].values()], reverse=True)\n",
    "    \n",
    "    for g, c in d[snpName]['alleles'].items():\n",
    "      if c not in gg:\n",
    "        gg[c] = [g]\n",
    "      else:\n",
    "        gg[c].append(g)\n",
    "    # Second allele must be at least 10% of main allele or it is ignored.\n",
    "    # Third and fourth alleles are always ignored if present.\n",
    "    #if len(vv) > 1 and vv[1] > vv[0]/10:\n",
    "    if len(vv) > 1 and vv[1] > vv[0]/4:\n",
    "      if len(gg[vv[0]]) > 1:\n",
    "        aa = ''.join(gg[vv[0]])\n",
    "      else:\n",
    "        aa = gg[vv[0]][0] + gg[vv[1]][0]\n",
    "    else:\n",
    "      aa = gg[vv[0]][0] + gg[vv[0]][0]\n",
    "    \n",
    "    o = '  {:<14}  '.format(snpName)\n",
    "    \n",
    "    for g in sorted(d[snpName]['alleles']):\n",
    "      o += '  {}:{:<5}'.format(g, d[snpName]['alleles'][g])\n",
    "    for g in sorted(d[snpName]['alleles']):\n",
    "      if t > 0:\n",
    "        o += '  {}:{:>3}%'.format(g, round(100*d[snpName]['alleles'][g]/t))\n",
    "      else:\n",
    "        o += '  {}:{:>3}%'.format(g, '???')\n",
    "    o += '    {:>5}/{:<5} reads'.format(t, d[snpName]['depth'])\n",
    "    o += '    {}'.format(''.join(sorted(aa)))\n",
    "    genotypes[sampleName][snpName] = ''.join(sorted(aa))\n",
    "    print(o)\n",
    "  \n",
    "  print('')\n",
    "  "
   ]
  },
  {
   "cell_type": "code",
   "execution_count": null,
   "metadata": {
    "collapsed": false
   },
   "outputs": [],
   "source": [
    "# Genotype overview\n",
    "#\n",
    "h = 'SNP           '\n",
    "snpNames = set()\n",
    "\n",
    "sortedSampleNames = sorted(sampleMap, key=lambda k: sampleMap[k])\n",
    "\n",
    "for sampleName in sortedSampleNames:\n",
    "  h += ' {:>10}'.format(sampleMap[sampleName])\n",
    "  \n",
    "  for snpName in genotypes[sampleName]:\n",
    "    snpNames.add(snpName)\n",
    "print(h)\n",
    "\n",
    "for snpName in sorted(snpNames):\n",
    "  r = '{:<14}'.format(snpName)\n",
    "  \n",
    "  for sampleName in sortedSampleNames:\n",
    "    if snpName in genotypes[sampleName]:\n",
    "      aa = ''.join(sorted(genotypes[sampleName][snpName]))\n",
    "    else:\n",
    "      aa = ''\n",
    "    r += ' {:>10}'.format(aa)\n",
    "    \n",
    "    \n",
    "  print(r)\n"
   ]
  },
  {
   "cell_type": "code",
   "execution_count": null,
   "metadata": {
    "collapsed": true
   },
   "outputs": [],
   "source": []
  }
 ],
 "metadata": {
  "kernelspec": {
   "display_name": "Python 3",
   "language": "python",
   "name": "python3"
  },
  "language_info": {
   "codemirror_mode": {
    "name": "ipython",
    "version": 3
   },
   "file_extension": ".py",
   "mimetype": "text/x-python",
   "name": "python",
   "nbconvert_exporter": "python",
   "pygments_lexer": "ipython3",
   "version": "3.3.0"
  }
 },
 "nbformat": 4,
 "nbformat_minor": 2
}
