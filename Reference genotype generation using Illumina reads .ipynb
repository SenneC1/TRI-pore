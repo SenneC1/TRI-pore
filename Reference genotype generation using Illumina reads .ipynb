{
 "cells": [
  {
   "cell_type": "markdown",
   "metadata": {},
   "source": [
    "## Analysis of Illumina reads\n",
    "\n",
    "### 1) Merge overlapping reads\n",
    "    The sequenced amplicons are shorter than the read length, so we will have a lot of overlapping pairs.\n",
    "### 2) Identify and extract full amplicons per SNP for all samples\n",
    "    Both primers have a perfect match in the correct orientation\n",
    "    the resulting amplicon length is exactly as predicted\n",
    "\n",
    "### 3) Detemine the SNP genotype on position 26 in the mappings \n",
    "\n"
   ]
  },
  {
   "cell_type": "markdown",
   "metadata": {},
   "source": [
    "### Notes:\n",
    "* Some SNP flanking regions contain other SNP's causing a hit miss when searching a perfect match.\n",
    "* We need to isolate full amplicons using the primers (fuzzy regex for Nanopore, perfect match for Illumina) and either:\n",
    " * call the snp at it's expected coordinate/distance from the PCR primer(s) (should work with illumina)\n",
    " * Map against reference amplicons, generate vcf (all positions), check variant at expected pos (all alts)\n"
   ]
  },
  {
   "cell_type": "markdown",
   "metadata": {},
   "source": [
    "### 1) Merge overlapping reads"
   ]
  },
  {
   "cell_type": "code",
   "execution_count": null,
   "metadata": {
    "collapsed": true
   },
   "outputs": [],
   "source": [
    " Init\n",
    "#\n",
    "import os, glob\n",
    "\n",
    "origFastqDir = '/media/genomics/nanopore/run_data/20171018_Illumina_Tri-allelic/20171013_Senne-49554618'\n",
    "outputDir    = '/media/genomics/nanopore/run_data/20171018_Illumina_Tri-allelic/20171019_merged_overlapping_reads'\n",
    "\n",
    "pear         = '/opt/tools/PEAR'  # v0.9.10\n",
    "\n",
    "if not os.path.exists(outputDir):\n",
    "    os.makedirs(outputDir)"
   ]
  },
  {
   "cell_type": "code",
   "execution_count": null,
   "metadata": {
    "collapsed": true
   },
   "outputs": [],
   "source": [
    "! ls {origFastqDir}"
   ]
  },
  {
   "cell_type": "code",
   "execution_count": null,
   "metadata": {
    "collapsed": true
   },
   "outputs": [],
   "source": [
    "sampleList = ['2800', '9947', '9948', 'G59', 'G62']\n",
    "\n",
    "for sampleName in sampleList:\n",
    "  r1File    = os.path.join(origFastqDir, '{}_S*R1_001.fastq'.format(sampleName))\n",
    "  r2File    = os.path.join(origFastqDir, '{}_S*R2_001.fastq'.format(sampleName))\n",
    "  outPrefix = os.path.join(outputDir, '{}_pear'.format(sampleName))\n",
    "  \n",
    "  !{pear} -f {r1File} -r {r2File} -o {outPrefix}"
   ]
  },
  {
   "cell_type": "markdown",
   "metadata": {},
   "source": [
    "### 2) Identify and extract full amplicons per SNP for all samples\n"
   ]
  },
  {
   "cell_type": "code",
   "execution_count": null,
   "metadata": {
    "collapsed": true
   },
   "outputs": [],
   "source": [
    "# Init\n",
    "#\n",
    "import os, glob\n",
    "\n",
    "origFastqDir     = '/media/genomics/nanopore/run_data/20171018_Illumina_Tri-allelic/20171013_Senne-49554618'\n",
    "outputDir        = '/media/genomics/nanopore/run_data/20171018_Illumina_Tri-allelic/20171019_merged_overlapping_reads'\n",
    "refAmpliconFasta = '/home/ygansemans/projects/triallelic_snp_amplicons.fasta'\n",
    "pcrPrimerFile    = '/home/ygansemans/projects/triallelic_snp_pcr_primers.csv'\n",
    "\n",
    "sampleList       = ['2800', '9947', '9948', 'G59', 'G62']"
   ]
  },
  {
   "cell_type": "code",
   "execution_count": null,
   "metadata": {
    "collapsed": true
   },
   "outputs": [],
   "source": [
    "# Utility functions\n",
    "#\n",
    "def reverseComplement(seq):\n",
    "  \"\"\"\n",
    "  Return the reverse complement of a given nucleotide sequence\n",
    "  \"\"\"\n",
    "  transTab = str.maketrans('agctyrwskmdvhbAGCTYRWSKMDVHB', 'tcgarywsmkhbdvTCGARYWSMKHBDV')\n",
    "  return seq.translate(transTab)[::-1]"
   ]
  },
  {
   "cell_type": "code",
   "execution_count": null,
   "metadata": {
    "collapsed": true
   },
   "outputs": [],
   "source": [
    "# Load PCR primers\n",
    "#\n",
    "pcrPrimerData = {}\n",
    "\n",
    "with open(pcrPrimerFile, 'rt') as inFile:\n",
    "  for line in inFile:\n",
    "    if line.startswith('SNP'): continue  # header line\n",
    "    \n",
    "    pName, pFor, pRev, ampliconSize, snpPos = line.rstrip().split(',')\n",
    "    pcrPrimerData[pName[4:]] = {'f': pFor, 'r': pRev, 'l': int(ampliconSize), 'p': int(snpPos)-1}\n",
    "    \n",
    "print('Got data for {} amplicons'.format(len(pcrPrimerData)))"
   ]
  },
  {
   "cell_type": "code",
   "execution_count": null,
   "metadata": {
    "collapsed": true
   },
   "outputs": [],
   "source": [
    "# Find and extract the amplicons per sample\n",
    "#\n",
    "ampliconData = {}\n",
    "hitCountData = {}\n",
    "reportSNP    = 'rs9274701'\n",
    "\n",
    "for sampleName in sampleList:\n",
    "  fastqFile                = os.path.join(outputDir, '{}_pear.assembled.fastq'.format(sampleName))\n",
    "  outFastaFile             = os.path.join(outputDir, '{}_snp_amplicons.fasta'.format(sampleName))\n",
    "  ampliconData[sampleName] = {}\n",
    "  hitCountData[sampleName] = {}\n",
    "  \n",
    "  with open(fastqFile, 'rt') as inFile, open(outFastaFile, 'wt') as outFile:\n",
    "    cnt = 0\n",
    "    \n",
    "    for line in inFile:\n",
    "      cnt += 1\n",
    "      line = line.rstrip()\n",
    "      \n",
    "      if cnt % 4 == 1:\n",
    "        readName = line\n",
    "      elif cnt % 4 == 2:\n",
    "        readSeq = line\n",
    "        \n",
    "        # Find primers (exact match)\n",
    "        for snpName in sorted(pcrPrimerData):\n",
    "          ampliconSeq = None\n",
    "          \n",
    "          if snpName not in hitCountData[sampleName]:\n",
    "            hitCountData[sampleName][snpName] = 0\n",
    "            ampliconData[sampleName][snpName] = []\n",
    "          \n",
    "          # Check on sense strand\n",
    "          if pcrPrimerData[snpName]['f'] in readSeq and reverseComplement(pcrPrimerData[snpName]['r']) in readSeq:\n",
    "            i1 = readSeq.index(pcrPrimerData[snpName]['f'])\n",
    "            i2 = readSeq.index(reverseComplement(pcrPrimerData[snpName]['r']))\n",
    "            ampliconSeq = readSeq[i1:i2]+reverseComplement(pcrPrimerData[snpName]['r'])\n",
    "            \n",
    "          # Check on anti-sense strand\n",
    "          elif pcrPrimerData[snpName]['r'] in readSeq and reverseComplement(pcrPrimerData[snpName]['f']) in readSeq:\n",
    "            i1 = readSeq.index(pcrPrimerData[snpName]['r'])\n",
    "            i2 = readSeq.index(reverseComplement(pcrPrimerData[snpName]['f']))\n",
    "            ampliconSeq = readSeq[i1:i2]+reverseComplement(pcrPrimerData[snpName]['f'])\n",
    "            ampliconSeq = reverseComplement(ampliconSeq)\n",
    "          \n",
    "          # Save only if amplicon passes length restrictions\n",
    "          if ampliconSeq and len(ampliconSeq) == pcrPrimerData[snpName]['l']:\n",
    "            outFile.write('>{}_{}\\n'.format(snpName, readName))\n",
    "            outFile.write(ampliconSeq + '\\n')\n",
    "            hitCountData[sampleName][snpName] += 1\n",
    "            ampliconData[sampleName][snpName].append(ampliconSeq)\n",
    "            \n",
    "            if reportSNP and snpName == reportSNP:\n",
    "              print('{}: {}'.format(snpName, ampliconSeq))\n",
    "              print('')\n",
    "              reportSNP = None\n",
    "\n",
    "# Display results\n",
    "for sampleName in sorted(sampleList):\n",
    "  print(sampleName)\n",
    "  for snpName in sorted(pcrPrimerData):\n",
    "    print('  {:>10}: {}'.format(snpName, hitCountData[sampleName][snpName]))\n",
    "  \n",
    "  print('')"
   ]
  },
  {
   "cell_type": "markdown",
   "metadata": {},
   "source": [
    "### 3) Detemine the SNP genotype on position 26 in the mappings "
   ]
  },
  {
   "cell_type": "code",
   "execution_count": null,
   "metadata": {
    "collapsed": true
   },
   "outputs": [],
   "source": [
    "# Get sample genotypes\n",
    "#\n",
    "excludeSnp = [] #['rs9274701'] # Amplicon is found, but content is not as expected\n",
    "genotypes  = {}\n",
    "\n",
    "for sampleName in sorted(sampleList):\n",
    "  print(\"SNP's for sample {}\".format(sampleName))\n",
    "  genotypes[sampleName] = {}\n",
    "  \n",
    "  for snpName in sorted(ampliconData[sampleName]):\n",
    "    if snpName in excludeSnp:\n",
    "      print('  {:>10}'.format(snpName))\n",
    "      continue\n",
    "    \n",
    "    genotype = {'A': 0, 'G': 0, 'C': 0, 'T': 0}\n",
    "    snpPos   = pcrPrimerData[snpName]['p']\n",
    "    \n",
    "    for amplicon in ampliconData[sampleName][snpName]:\n",
    "      genotype[amplicon[snpPos]] += 1\n",
    "      \n",
    "    o = '  {:>10}  '.format(snpName)\n",
    "    t = sum(genotype.values())\n",
    "    \n",
    "      \n",
    "    if t:\n",
    "      for g in sorted(genotype):\n",
    "        o += '  {}:{:<5}'.format(g, genotype[g])\n",
    "        \n",
    "      o += '      '\n",
    "      for g in sorted(genotype):\n",
    "        o += '  {}:{:>3}%'.format(g, round(100*genotype[g]/t))\n",
    "        \n",
    "      o += '    {:>5} reads'.format(t)\n",
    "    \n",
    "      # Likely genotype\n",
    "      gg = {}\n",
    "      vv = sorted([int(c) for c in genotype.values()], reverse=True)\n",
    "      for g, c in genotype.items():\n",
    "        if c not in gg:\n",
    "          gg[c] = [g]\n",
    "        else:\n",
    "          gg[c].append(g)\n",
    "      # Second allele must be at least 10% of main allele or it is ignored.\n",
    "      # Third and fourth alleles are always ignored if present.\n",
    "      if len(vv) > 1 and vv[1] > vv[0]/10:\n",
    "        aa = gg[vv[0]][0] + gg[vv[1]][0]\n",
    "      else:\n",
    "        aa = gg[vv[0]][0] + gg[vv[0]][0]\n",
    "      o += '    {}'.format(''.join(sorted(aa)))\n",
    "      \n",
    "      genotypes[sampleName][snpName] = sorted(aa)\n",
    "    \n",
    "    print(o)\n",
    "  print('')\n",
    "  "
   ]
  },
  {
   "cell_type": "code",
   "execution_count": null,
   "metadata": {
    "collapsed": true
   },
   "outputs": [],
   "source": [
    "# Genotype overview\n",
    "#\n",
    "h = 'SNP       '\n",
    "for sampleName in sorted(genotypes):\n",
    "  h += ' {:>10}'.format(sampleName)\n",
    "print(h)\n",
    "\n",
    "for snpName in sorted(pcrPrimerData):\n",
    "  r = '{:>10}'.format(snpName)\n",
    "  \n",
    "  for sampleName in sorted(genotypes):\n",
    "    if snpName in genotypes[sampleName]:\n",
    "      aa = ''.join(sorted(genotypes[sampleName][snpName]))\n",
    "    else:\n",
    "      aa = ''\n",
    "    r += ' {:>10}'.format(aa)\n",
    "    \n",
    "    \n",
    "  print(r)\n"
   ]
  }
 ],
 "metadata": {
  "kernelspec": {
   "display_name": "Python 3",
   "language": "python",
   "name": "python3"
  },
  "language_info": {
   "codemirror_mode": {
    "name": "ipython",
    "version": 3
   },
   "file_extension": ".py",
   "mimetype": "text/x-python",
   "name": "python",
   "nbconvert_exporter": "python",
   "pygments_lexer": "ipython3",
   "version": "3.3.0"
  }
 },
 "nbformat": 4,
 "nbformat_minor": 0
}
